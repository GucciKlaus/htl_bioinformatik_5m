{
 "cells": [
  {
   "cell_type": "code",
   "execution_count": 1,
   "metadata": {},
   "outputs": [
    {
     "name": "stdout",
     "output_type": "stream",
     "text": [
      "--2015-11-03 09:52:29--  http://d28rh4a8wq0iu5.cloudfront.net/ads1/data/lambda_virus.fa\n",
      "Auflösen des Hostnamen »d28rh4a8wq0iu5.cloudfront.net (d28rh4a8wq0iu5.cloudfront.net)«... 216.137.63.242, 216.137.63.194, 54.192.8.73, ...\n",
      "Verbindungsaufbau zu d28rh4a8wq0iu5.cloudfront.net (d28rh4a8wq0iu5.cloudfront.net)|216.137.63.242|:80... verbunden.\n",
      "HTTP-Anforderung gesendet, warte auf Antwort... 200 OK\n",
      "Länge: 49270 (48K) [application/octet-stream]\n",
      "In »»lambda_virus.fa.1«« speichern.\n",
      "\n",
      "100%[======================================>] 49.270      --.-K/s   in 0,1s    \n",
      "\n",
      "2015-11-03 09:52:29 (490 KB/s) - »»lambda_virus.fa.1«« gespeichert [49270/49270]\n",
      "\n"
     ]
    }
   ],
   "source": [
    "# Following line downloads FASTA file containing the lambda phage reference genome\n",
    "# On Unix you could use wget to download the fasta file (just uncomment the following line)\n",
    "# !wget http://d28rh4a8wq0iu5.cloudfront.net/ads1/data/lambda_virus.fa\n",
    "\n",
    "# On Windows you have to download the file manually into your working directory"
   ]
  },
  {
   "cell_type": "code",
   "execution_count": 2,
   "metadata": {},
   "outputs": [
    {
     "data": {
      "text/plain": [
       "'GGGCGGCGACCTCGCGGGTTTTCGCTATTTATGAAAATTTTCCGGTTTAAGGCGTTTCCGTTCTTCTTCGTCATAACTTAATGTTTTTATTTAAAATACC'"
      ]
     },
     "execution_count": 2,
     "metadata": {},
     "output_type": "execute_result"
    }
   ],
   "source": [
    "# Write a function to read the Genome data from the file. Do not forget to ignore the header line\n",
    "def readGenome(filename):\n",
    "    genome = ''\n",
    "    # your code here\n",
    "    return genome\n",
    "genome = readGenome('lambda_virus.fa')\n",
    "genome[:100]"
   ]
  },
  {
   "cell_type": "code",
   "execution_count": 3,
   "metadata": {},
   "outputs": [
    {
     "name": "stdout",
     "output_type": "stream",
     "text": [
      "{'C': 11362, 'A': 12334, 'G': 12820, 'T': 11986}\n"
     ]
    }
   ],
   "source": [
    "# Count the number of occurences of each base in the variable genome\n",
    "\n",
    "print(counts)"
   ]
  },
  {
   "cell_type": "code",
   "execution_count": 4,
   "metadata": {},
   "outputs": [
    {
     "data": {
      "text/plain": [
       "Counter({'G': 12820, 'A': 12334, 'T': 11986, 'C': 11362})"
      ]
     },
     "execution_count": 4,
     "metadata": {},
     "output_type": "execute_result"
    }
   ],
   "source": [
    "# You could also use the Counter class\n",
    "# see documentation: https://docs.python.org/2/library/collections.html#collections.Counter\n",
    "import collections\n",
    "collections.Counter(genome)"
   ]
  }
 ],
 "metadata": {
  "kernelspec": {
   "display_name": "Python 3",
   "language": "python",
   "name": "python3"
  },
  "language_info": {
   "codemirror_mode": {
    "name": "ipython",
    "version": 3
   },
   "file_extension": ".py",
   "mimetype": "text/x-python",
   "name": "python",
   "nbconvert_exporter": "python",
   "pygments_lexer": "ipython3",
   "version": "3.5.4"
  }
 },
 "nbformat": 4,
 "nbformat_minor": 1
}
