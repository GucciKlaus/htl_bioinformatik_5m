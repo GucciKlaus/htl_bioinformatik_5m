{
 "cells": [
  {
   "cell_type": "code",
   "execution_count": 7,
   "metadata": {},
   "outputs": [
    {
     "name": "stderr",
     "output_type": "stream",
     "text": [
      "Der Befehl \"wget\" ist entweder falsch geschrieben oder\n",
      "konnte nicht gefunden werden.\n"
     ]
    }
   ],
   "source": [
    "# Funktioniert nur unter ix-Betriebssystemen. Unter Windows muss die Datei manuell herunter-\n",
    "# geladen werden.\n",
    "!wget http://d28rh4a8wq0iu5.cloudfront.net/ads1/data/phix.fa"
   ]
  },
  {
   "cell_type": "code",
   "execution_count": 8,
   "metadata": {
    "collapsed": true
   },
   "outputs": [],
   "source": [
    "def readGenome(filename):\n",
    "    \"\"\" Reads dna data from a given file\n",
    "    param: filename name of a fasta file\n",
    "    returns: dna data without the ids of the fasta file\n",
    "    rtype: string\n",
    "    \"\"\"\n",
    "    genome = ''\n",
    "    with open(filename) as fh:\n",
    "        content = fh.readlines()\n",
    "        for i in content[1:]:\n",
    "            genome += i.strip()\n",
    "    \n",
    "    return genome"
   ]
  },
  {
   "cell_type": "code",
   "execution_count": 9,
   "metadata": {
    "collapsed": true
   },
   "outputs": [
    {
     "name": "stdout",
     "output_type": "stream",
     "text": [
      "[0, 5, 9]\n"
     ]
    }
   ],
   "source": [
    "def naive(p, t):\n",
    "    \"\"\"Implementation of a 'naive' pattern search in text t\n",
    "    param: p search-pattern\n",
    "    param: t text to search in\n",
    "    returns: list of occurences\n",
    "    \"\"\"\n",
    "    occurrences = []\n",
    "    for i in range(len(t)):\n",
    "     if p == t[i:i+len(p)]:\n",
    "        occurrences.append(i)\n",
    "     \"\"\"if(p == t[i] + t[i+1]):\n",
    "        occurrences.append(i)\"\"\"\n",
    "    return occurrences\n",
    "print(naive('AG','AGCTTAGATAGC'))"
   ]
  },
  {
   "cell_type": "code",
   "execution_count": 10,
   "metadata": {
    "collapsed": true
   },
   "outputs": [],
   "source": [
    "import random\n",
    "def generateReads(genome, numReads, readLen):\n",
    "    \"\"\"Generate reads from random positions in the given genome.\n",
    "    param: genome dna data from which reads should be generated\n",
    "    param: numReads defines how many different reads are generated\n",
    "    param: readLen defines the length of each read\n",
    "    returns: list containing the generated reads\n",
    "    \"\"\"\n",
    "    reads = []\n",
    "\n",
    "    for i in range (numReads):\n",
    "     \"\"\"reads[i] = genome[random.randint(len(genome)):readLen]\"\"\"\n",
    "     startposition = random.randint(0,len(genome)-readLen)\n",
    "     reads.append(genome[startposition:startposition + readLen])\n",
    "    #zu fehleranfällig\n",
    "    # reads.append(genome[random.randint(0,len(genome)-readLen):genome[random.randint(0,len(genome)-readLen)]+readLen])\n",
    "    return reads"
   ]
  },
  {
   "cell_type": "code",
   "execution_count": 11,
   "metadata": {},
   "outputs": [
    {
     "name": "stdout",
     "output_type": "stream",
     "text": [
      "100 / 100 reads matched the genome exactly!\n"
     ]
    }
   ],
   "source": [
    "# Generate 100 reads of length 100\n",
    "genome = readGenome(\"phix.fa\")\n",
    "reads = generateReads(genome, 100, 100)\n",
    "\n",
    "# Count how many reads match the genome exactly\n",
    "numMatched = 0\n",
    "for r in reads:\n",
    "    matches = naive(r, genome)\n",
    "    if len(matches) > 0:\n",
    "        numMatched += 1\n",
    "print('%d / %d reads matched the genome exactly!' % (numMatched, len(reads)))"
   ]
  },
  {
   "cell_type": "code",
   "execution_count": 12,
   "metadata": {},
   "outputs": [
    {
     "name": "stderr",
     "output_type": "stream",
     "text": [
      "test_notebook (__main__.TestNotebook.test_notebook) ... ok\n",
      "\n",
      "----------------------------------------------------------------------\n",
      "Ran 1 test in 0.004s\n",
      "\n",
      "OK\n"
     ]
    },
    {
     "data": {
      "text/plain": [
       "<unittest.main.TestProgram at 0x20e9aacd910>"
      ]
     },
     "execution_count": 12,
     "metadata": {},
     "output_type": "execute_result"
    }
   ],
   "source": [
    "import pickle as pkl\n",
    "import unittest\n",
    "with open('1.06_vars.pkl', 'rb') as f:\n",
    "    genome  = pkl.load(f)\n",
    "\n",
    "class TestNotebook(unittest.TestCase):    \n",
    "    def test_notebook(self):        \n",
    "        self.assertEqual(genome, readGenome('phix.fa'))\n",
    "        self.assertEqual(naive('AG','AGCTTAGATAGC'), [0, 5, 9], 'Tested naive with parameters: p=\"AG\" and t=\"AGCTTAGATAGC\". Should return this list of occurences: [0, 5, 9]')\n",
    "        reads = generateReads(genome, 100, 100)\n",
    "        self.assertEqual(len(reads), 100, 'Generated wrong number of reads! Should be 100 is {}'.format(len(reads)))\n",
    "        self.assertEqual(numMatched, 100, 'NumMatched has wrong length. Should be 100 is {}'.format(numMatched))\n",
    "        \n",
    "unittest.main(argv=[''], verbosity=2, exit=False)"
   ]
  },
  {
   "cell_type": "code",
   "execution_count": null,
   "metadata": {},
   "outputs": [],
   "source": []
  }
 ],
 "metadata": {
  "kernelspec": {
   "display_name": "Python 3",
   "language": "python",
   "name": "python3"
  },
  "language_info": {
   "codemirror_mode": {
    "name": "ipython",
    "version": 3
   },
   "file_extension": ".py",
   "mimetype": "text/x-python",
   "name": "python",
   "nbconvert_exporter": "python",
   "pygments_lexer": "ipython3",
   "version": "3.11.7"
  }
 },
 "nbformat": 4,
 "nbformat_minor": 1
}
