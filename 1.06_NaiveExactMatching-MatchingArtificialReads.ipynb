{
 "cells": [
  {
   "cell_type": "code",
   "execution_count": 1,
   "metadata": {},
   "outputs": [
    {
     "name": "stdout",
     "output_type": "stream",
     "text": [
      "--2017-12-14 11:01:37--  http://d28rh4a8wq0iu5.cloudfront.net/ads1/data/phix.fa\n",
      "Resolving d28rh4a8wq0iu5.cloudfront.net... 13.32.16.127, 13.32.16.28, 13.32.16.244, ...\n",
      "Connecting to d28rh4a8wq0iu5.cloudfront.net|13.32.16.127|:80... connected.\n",
      "HTTP request sent, awaiting response... 200 OK\n",
      "Length: 5528 (5.4K) [application/octet-stream]\n",
      "Saving to: ‘phix.fa’\n",
      "\n",
      "phix.fa             100%[===================>]   5.40K  --.-KB/s    in 0s      \n",
      "\n",
      "2017-12-14 11:01:37 (264 MB/s) - ‘phix.fa’ saved [5528/5528]\n",
      "\n"
     ]
    }
   ],
   "source": [
    "# Funktioniert nur unter ix-Betriebssystemen. Unter Windows muss die Datei manuell herunter-\n",
    "# geladen werden.\n",
    "!wget http://d28rh4a8wq0iu5.cloudfront.net/ads1/data/phix.fa"
   ]
  },
  {
   "cell_type": "code",
   "execution_count": 52,
   "metadata": {
    "collapsed": true
   },
   "outputs": [],
   "source": [
    "import unittest\n",
    "class TestMatchingArtificialReads(unittest.TestCase):\n",
    "    def test_readGenome(self):\n",
    "        self.assertEqual(len(readGenome('phix.fa')), 5386, 'length of genome string for file phix.fa is wrong! Correct length should be: 5386')\n",
    "    def test_naive(self):\n",
    "        self.assertEqual(naive('AG','AGCTTAGATAGC'), [0, 5, 9], 'Tested naive with parameters: p=\"AG\" and t=\"AGCTTAGATAGC\". Should return this list of occurences: [0, 5, 9]')\n",
    "    def test_generate_reads(self):\n",
    "        self.test_readGenome()\n",
    "        genome = readGenome('phix.fa')\n",
    "        reads = generateReads(genome, 100, 100)\n",
    "        self.assertEqual(len(reads), 100, 'Generated wrong number of reads! Should be 100 is {}'.format(len(reads)))\n",
    "        for read in reads:\n",
    "            self.assertEqual(len(read), 100, 'Read has wrong length. Should be 100 is {}'.format(len(read)))"
   ]
  },
  {
   "cell_type": "code",
   "execution_count": 53,
   "metadata": {
    "collapsed": true
   },
   "outputs": [],
   "source": [
    "def readGenome(filename):\n",
    "    \"\"\" Reads dna data from a given file\n",
    "    param: filename name of a fasta file\n",
    "    returns: dna data without the ids of the fasta file\n",
    "    rtype: string\n",
    "    \"\"\"\n",
    "    genome = ''\n",
    "    \n",
    "    return genome"
   ]
  },
  {
   "cell_type": "code",
   "execution_count": 54,
   "metadata": {},
   "outputs": [
    {
     "name": "stderr",
     "output_type": "stream",
     "text": [
      "F\n",
      "======================================================================\n",
      "FAIL: test_readGenome (__main__.TestMatchingArtificialReads)\n",
      "----------------------------------------------------------------------\n",
      "Traceback (most recent call last):\n",
      "  File \"<ipython-input-52-5405d52157c0>\", line 4, in test_readGenome\n",
      "    self.assertEqual(len(readGenome('phix.fa')), 5386, 'length of genome string for file phix.fa is wrong! Correct length should be: 5386')\n",
      "AssertionError: 0 != 5386 : length of genome string for file phix.fa is wrong! Correct length should be: 5386\n",
      "\n",
      "----------------------------------------------------------------------\n",
      "Ran 1 test in 0.002s\n",
      "\n",
      "FAILED (failures=1)\n"
     ]
    },
    {
     "data": {
      "text/plain": [
       "<unittest.runner.TextTestResult run=1 errors=0 failures=1>"
      ]
     },
     "execution_count": 54,
     "metadata": {},
     "output_type": "execute_result"
    }
   ],
   "source": [
    "tests = TestMatchingArtificialReads()\n",
    "suite = unittest.TestSuite()\n",
    "suite.addTest(TestMatchingArtificialReads('test_readGenome'))\n",
    "unittest.TextTestRunner().run(suite)"
   ]
  },
  {
   "cell_type": "code",
   "execution_count": 55,
   "metadata": {
    "collapsed": true
   },
   "outputs": [],
   "source": [
    "def naive(p, t):\n",
    "    \"\"\"Implementation of a 'naive' pattern search in text t\n",
    "    param: p search-pattern\n",
    "    param: t text to search in\n",
    "    returns: list of occurences\n",
    "    \"\"\"\n",
    "    occurrences = []\n",
    "    return occurrences"
   ]
  },
  {
   "cell_type": "code",
   "execution_count": 56,
   "metadata": {},
   "outputs": [
    {
     "name": "stderr",
     "output_type": "stream",
     "text": [
      "F\n",
      "======================================================================\n",
      "FAIL: test_naive (__main__.TestMatchingArtificialReads)\n",
      "----------------------------------------------------------------------\n",
      "Traceback (most recent call last):\n",
      "  File \"<ipython-input-52-5405d52157c0>\", line 6, in test_naive\n",
      "    self.assertEqual(naive('AG','AGCTTAGATAGC'), [0, 5, 9], 'Tested naive with parameters: p=\"AG\" and t=\"AGCTTAGATAGC\". Should return this list of occurences: [0, 5, 9]')\n",
      "AssertionError: Lists differ: [] != [0, 5, 9]\n",
      "\n",
      "Second list contains 3 additional elements.\n",
      "First extra element 0:\n",
      "0\n",
      "\n",
      "- []\n",
      "+ [0, 5, 9] : Tested naive with parameters: p=\"AG\" and t=\"AGCTTAGATAGC\". Should return this list of occurences: [0, 5, 9]\n",
      "\n",
      "----------------------------------------------------------------------\n",
      "Ran 1 test in 0.002s\n",
      "\n",
      "FAILED (failures=1)\n"
     ]
    },
    {
     "data": {
      "text/plain": [
       "<unittest.runner.TextTestResult run=1 errors=0 failures=1>"
      ]
     },
     "execution_count": 56,
     "metadata": {},
     "output_type": "execute_result"
    }
   ],
   "source": [
    "tests = TestMatchingArtificialReads()\n",
    "suite = unittest.TestSuite()\n",
    "suite.addTest(TestMatchingArtificialReads('test_naive'))\n",
    "unittest.TextTestRunner().run(suite)"
   ]
  },
  {
   "cell_type": "code",
   "execution_count": 57,
   "metadata": {
    "collapsed": true
   },
   "outputs": [],
   "source": [
    "import random\n",
    "def generateReads(genome, numReads, readLen):\n",
    "    \"\"\"Generate reads from random positions in the given genome.\n",
    "    param: genome dna data from which reads should be generated\n",
    "    param: numReads defines how many different reads are generated\n",
    "    param: readLen defines the length of each read\n",
    "    returns: list containing the generated reads\n",
    "    \"\"\"\n",
    "    reads = []\n",
    "    \n",
    "    return reads"
   ]
  },
  {
   "cell_type": "code",
   "execution_count": 58,
   "metadata": {},
   "outputs": [
    {
     "name": "stderr",
     "output_type": "stream",
     "text": [
      "F\n",
      "======================================================================\n",
      "FAIL: test_generate_reads (__main__.TestMatchingArtificialReads)\n",
      "----------------------------------------------------------------------\n",
      "Traceback (most recent call last):\n",
      "  File \"<ipython-input-52-5405d52157c0>\", line 8, in test_generate_reads\n",
      "    self.test_readGenome()\n",
      "  File \"<ipython-input-52-5405d52157c0>\", line 4, in test_readGenome\n",
      "    self.assertEqual(len(readGenome('phix.fa')), 5386, 'length of genome string for file phix.fa is wrong! Correct length should be: 5386')\n",
      "AssertionError: 0 != 5386 : length of genome string for file phix.fa is wrong! Correct length should be: 5386\n",
      "\n",
      "----------------------------------------------------------------------\n",
      "Ran 1 test in 0.001s\n",
      "\n",
      "FAILED (failures=1)\n"
     ]
    },
    {
     "data": {
      "text/plain": [
       "<unittest.runner.TextTestResult run=1 errors=0 failures=1>"
      ]
     },
     "execution_count": 58,
     "metadata": {},
     "output_type": "execute_result"
    }
   ],
   "source": [
    "tests = TestMatchingArtificialReads()\n",
    "suite = unittest.TestSuite()\n",
    "suite.addTest(TestMatchingArtificialReads('test_generate_reads'))\n",
    "unittest.TextTestRunner().run(suite)"
   ]
  },
  {
   "cell_type": "code",
   "execution_count": 47,
   "metadata": {},
   "outputs": [
    {
     "name": "stdout",
     "output_type": "stream",
     "text": [
      "100 / 100 reads matched the genome exactly!\n"
     ]
    }
   ],
   "source": [
    "# Generate 100 reads of length 100\n",
    "reads = generateReads(genome, 100, 100)\n",
    "\n",
    "# Count how many reads match the genome exactly\n",
    "numMatched = 0\n",
    "for r in reads:\n",
    "    matches = naive(r, genome)\n",
    "    if len(matches) > 0:\n",
    "        numMatched += 1\n",
    "print('%d / %d reads matched the genome exactly!' % (numMatched, len(reads)))"
   ]
  }
 ],
 "metadata": {
  "kernelspec": {
   "display_name": "Python 3",
   "language": "python",
   "name": "python3"
  },
  "language_info": {
   "codemirror_mode": {
    "name": "ipython",
    "version": 3
   },
   "file_extension": ".py",
   "mimetype": "text/x-python",
   "name": "python",
   "nbconvert_exporter": "python",
   "pygments_lexer": "ipython3",
   "version": "3.5.4"
  }
 },
 "nbformat": 4,
 "nbformat_minor": 1
}
