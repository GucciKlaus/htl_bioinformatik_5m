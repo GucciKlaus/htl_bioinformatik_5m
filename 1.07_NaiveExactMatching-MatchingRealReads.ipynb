{
 "cells": [
  {
   "cell_type": "markdown",
   "metadata": {},
   "source": [
    "# NaiveExactMatching-MatchingRealReads"
   ]
  },
  {
   "cell_type": "code",
   "execution_count": null,
   "metadata": {
    "collapsed": true
   },
   "outputs": [],
   "source": [
    "!wget http://d28rh4a8wq0iu5.cloudfront.net/ads1/data/phix.fa"
   ]
  },
  {
   "cell_type": "code",
   "execution_count": 17,
   "metadata": {
    "collapsed": true
   },
   "outputs": [],
   "source": [
    "import unittest\n",
    "import collections\n",
    "class TestMatchingArtificialReads(unittest.TestCase):\n",
    "    def test_readGenome(self):\n",
    "        self.assertEqual(len(readGenome('phix.fa')), 5386, 'length of genome string for file phix.fa is wrong! Correct length should be: 5386')\n",
    "    def test_naive(self):\n",
    "        self.assertEqual(naive('AG','AGCTTAGATAGC'), [0, 5, 9], 'Tested naive with parameters: p=\"AG\" and t=\"AGCTTAGATAGC\". Should return this list of occurences: [0, 5, 9]')\n",
    "    def test_generate_reads(self):\n",
    "        self.test_readGenome()\n",
    "        genome = readGenome('phix.fa')\n",
    "        reads = generateReads(genome, 100, 100)\n",
    "        self.assertEqual(len(reads), 100, 'Generated wrong number of reads! Should be 100 is {}'.format(len(reads)))\n",
    "        for read in reads:\n",
    "            self.assertEqual(len(read), 100, 'Read has wrong length. Should be 100 is {}'.format(len(read)))\n",
    "    def test_readFastq(self):\n",
    "        phix_reads = readFastq('ERR266411_1.first1000.fastq')\n",
    "        count = collections.Counter()\n",
    "        for read in phix_reads:\n",
    "            count.update(read)\n",
    "        self.assertEqual(count['T'], 30531, 'Count for T is wrong. Should be 30531 but is {}'.format(count['T']))\n",
    "        self.assertEqual(count['A'], 28426, 'Count for A is wrong. Should be 30531 but is {}'.format(count['A']))\n",
    "        self.assertEqual(count['C'], 21890, 'Count for C is wrong. Should be 30531 but is {}'.format(count['C']))\n",
    "        self.assertEqual(count['G'], 19147, 'Count for G is wrong. Should be 30531 but is {}'.format(count['G']))\n",
    "        self.assertEqual(count['N'], 6, 'Count for N is wrong. Should be 30531 but is {}'.format(count['N']))"
   ]
  },
  {
   "cell_type": "code",
   "execution_count": 18,
   "metadata": {
    "collapsed": true
   },
   "outputs": [],
   "source": [
    "def readGenome(filename):\n",
    "    \"\"\" Reads dna data from a given file\n",
    "    param: filename name of a fasta file\n",
    "    returns: dna data without the ids of the fasta file\n",
    "    rtype: string\n",
    "    \"\"\"\n",
    "    # copy from notebook 1.06\n",
    "    \n",
    "    return genome"
   ]
  },
  {
   "cell_type": "code",
   "execution_count": null,
   "metadata": {
    "collapsed": true
   },
   "outputs": [],
   "source": [
    "genome = readGenome('phix.fa')"
   ]
  },
  {
   "cell_type": "code",
   "execution_count": 19,
   "metadata": {
    "collapsed": true
   },
   "outputs": [],
   "source": [
    "def naive(p, t):\n",
    "    \"\"\"Implementation of a 'naive' pattern search in text t\n",
    "    param: p search-pattern\n",
    "    param: t text to search in\n",
    "    returns: list of occurences\n",
    "    \"\"\"\n",
    "    # copy from notebook 1.06\n",
    "    \n",
    "    return occurrences"
   ]
  },
  {
   "cell_type": "code",
   "execution_count": 20,
   "metadata": {
    "collapsed": true
   },
   "outputs": [],
   "source": [
    "import random\n",
    "def generateReads(genome, numReads, readLen):\n",
    "    \"\"\"Generate reads from random positions in the given genome.\n",
    "    param: genome dna data from which reads should be generated\n",
    "    param: numReads defines how many different reads are generated\n",
    "    param: readLen defines the length of each read\n",
    "    returns: list containing the generated reads\n",
    "    \"\"\"\n",
    "    # copy from notebook 1.06\n",
    "   \n",
    "    return reads"
   ]
  },
  {
   "cell_type": "code",
   "execution_count": 21,
   "metadata": {},
   "outputs": [
    {
     "name": "stderr",
     "output_type": "stream",
     "text": [
      ".E.\n",
      "======================================================================\n",
      "ERROR: test_naive (__main__.TestMatchingArtificialReads)\n",
      "----------------------------------------------------------------------\n",
      "Traceback (most recent call last):\n",
      "  File \"<ipython-input-17-3e185e46e07d>\", line 7, in test_naive\n",
      "    self.assertEqual(naive('AG','AGCTTAGATAGC'), [0, 5, 9], 'Tested naive with parameters: p=\"AG\" and t=\"AGCTTAGATAGC\". Should return this list of occurences: [0, 5, 9]')\n",
      "  File \"<ipython-input-19-734726981cb6>\", line 9, in naive\n",
      "    return occurrences\n",
      "NameError: name 'occurrences' is not defined\n",
      "\n",
      "----------------------------------------------------------------------\n",
      "Ran 3 tests in 0.005s\n",
      "\n",
      "FAILED (errors=1)\n"
     ]
    },
    {
     "data": {
      "text/plain": [
       "<unittest.runner.TextTestResult run=3 errors=1 failures=0>"
      ]
     },
     "execution_count": 21,
     "metadata": {},
     "output_type": "execute_result"
    }
   ],
   "source": [
    "tests = TestMatchingArtificialReads()\n",
    "suite = unittest.TestSuite()\n",
    "suite.addTest(TestMatchingArtificialReads('test_readGenome'))\n",
    "suite.addTest(TestMatchingArtificialReads('test_naive'))\n",
    "suite.addTest(TestMatchingArtificialReads('test_generate_reads'))\n",
    "unittest.TextTestRunner().run(suite)"
   ]
  },
  {
   "cell_type": "code",
   "execution_count": null,
   "metadata": {
    "collapsed": true
   },
   "outputs": [],
   "source": [
    "# Generate 100 reads of length 100\n",
    "reads = generateReads(genome, 100, 100)\n",
    "\n",
    "# Count how many reads match the genome exactly\n",
    "numMatched = 0\n",
    "for r in reads:\n",
    "    matches = naive(r, genome)\n",
    "    if len(matches) > 0:\n",
    "        numMatched += 1\n",
    "print('%d / %d reads matched the genome exactly!' % (numMatched, len(reads)))"
   ]
  },
  {
   "cell_type": "code",
   "execution_count": null,
   "metadata": {
    "collapsed": true
   },
   "outputs": [],
   "source": [
    "# On Windows you have to manually download the file\n",
    "!wget http://d28rh4a8wq0iu5.cloudfront.net/ads1/data/ERR266411_1.first1000.fastq"
   ]
  },
  {
   "cell_type": "code",
   "execution_count": 22,
   "metadata": {
    "collapsed": true
   },
   "outputs": [],
   "source": [
    "def readFastq(filename):\n",
    "    \"\"\" Reads a FastQ File\n",
    "    param filename: name of the fastq file\n",
    "    returns: list containing all the dna sequences from the fastq file\n",
    "    \"\"\"\n",
    "    sequences = []\n",
    "   \n",
    "    return sequences"
   ]
  },
  {
   "cell_type": "code",
   "execution_count": 23,
   "metadata": {},
   "outputs": [
    {
     "name": "stderr",
     "output_type": "stream",
     "text": [
      "F\n",
      "======================================================================\n",
      "FAIL: test_readFastq (__main__.TestMatchingArtificialReads)\n",
      "----------------------------------------------------------------------\n",
      "Traceback (most recent call last):\n",
      "  File \"<ipython-input-17-3e185e46e07d>\", line 20, in test_readFastq\n",
      "    self.assertEqual(count['T'], 30531, 'Count for T is wrong. Should be 30531 but is {}'.format(count['T']))\n",
      "AssertionError: 0 != 30531 : Count for T is wrong. Should be 30531 but is 0\n",
      "\n",
      "----------------------------------------------------------------------\n",
      "Ran 1 test in 0.002s\n",
      "\n",
      "FAILED (failures=1)\n"
     ]
    },
    {
     "data": {
      "text/plain": [
       "<unittest.runner.TextTestResult run=1 errors=0 failures=1>"
      ]
     },
     "execution_count": 23,
     "metadata": {},
     "output_type": "execute_result"
    }
   ],
   "source": [
    "tests = TestMatchingArtificialReads()\n",
    "suite = unittest.TestSuite()\n",
    "suite.addTest(TestMatchingArtificialReads('test_readFastq'))\n",
    "unittest.TextTestRunner().run(suite)"
   ]
  },
  {
   "cell_type": "code",
   "execution_count": null,
   "metadata": {
    "collapsed": true
   },
   "outputs": [],
   "source": [
    "numMatched = 0\n",
    "n = 0\n",
    "for r in phix_reads:\n",
    "    matches = naive(r, genome)\n",
    "    n += 1\n",
    "    if len(matches) > 0:\n",
    "        numMatched += 1\n",
    "print('%d / %d reads matched the genome exactly!' % (numMatched, n))"
   ]
  },
  {
   "cell_type": "code",
   "execution_count": null,
   "metadata": {
    "collapsed": true
   },
   "outputs": [],
   "source": [
    "# Now let's try matching just the first 30 bases of each read\n",
    "numMatched = 0\n",
    "n = 0\n",
    "for r in phix_reads:\n",
    "    r = r[:30]  # just taking the first 30 bases\n",
    "    matches = naive(r, genome)\n",
    "    n += 1\n",
    "    if len(matches) > 0:\n",
    "        numMatched += 1\n",
    "print('%d / %d reads matched the genome exactly!' % (numMatched, n))"
   ]
  },
  {
   "cell_type": "code",
   "execution_count": null,
   "metadata": {
    "collapsed": true
   },
   "outputs": [],
   "source": [
    "def reverseComplement(s):\n",
    "    complement = {'A': 'T', 'C': 'G', 'G': 'C', 'T': 'A', 'N': 'N'}\n",
    "    t = ''\n",
    "    for base in s:\n",
    "        t = complement[base] + t\n",
    "    return t"
   ]
  },
  {
   "cell_type": "code",
   "execution_count": null,
   "metadata": {
    "collapsed": true
   },
   "outputs": [],
   "source": [
    "numMatched = 0\n",
    "n = 0\n",
    "for r in phix_reads:\n",
    "    r = r[:30]  # just taking the first 30 bases\n",
    "    matches = naive(r, genome)\n",
    "    matches.extend(naive(reverseComplement(r), genome))\n",
    "    n += 1\n",
    "    if len(matches) > 0:\n",
    "        numMatched += 1\n",
    "print('%d / %d reads matched the genome exactly!' % (numMatched, n))"
   ]
  },
  {
   "cell_type": "markdown",
   "metadata": {},
   "source": [
    "### Compare the different results on the matches!\n",
    "Think of the different numbers of matches and why these numbers arise. Make some notes! "
   ]
  }
 ],
 "metadata": {
  "kernelspec": {
   "display_name": "Python 3",
   "language": "python",
   "name": "python3"
  },
  "language_info": {
   "codemirror_mode": {
    "name": "ipython",
    "version": 3
   },
   "file_extension": ".py",
   "mimetype": "text/x-python",
   "name": "python",
   "nbconvert_exporter": "python",
   "pygments_lexer": "ipython3",
   "version": "3.5.4"
  }
 },
 "nbformat": 4,
 "nbformat_minor": 1
}
