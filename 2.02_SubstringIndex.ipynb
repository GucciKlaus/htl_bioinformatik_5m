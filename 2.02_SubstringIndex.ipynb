{
 "cells": [
  {
   "cell_type": "markdown",
   "metadata": {},
   "source": [
    "# Substring Index\n",
    "We want to build an Index with Bisect library"
   ]
  },
  {
   "cell_type": "code",
   "execution_count": 1,
   "metadata": {
    "collapsed": true
   },
   "outputs": [],
   "source": [
    "import bisect\n",
    "import sys"
   ]
  },
  {
   "cell_type": "code",
   "execution_count": 2,
   "metadata": {
    "collapsed": true
   },
   "outputs": [],
   "source": [
    "'''Index Class'''\n",
    "class Index(object):\n",
    "    def __init__(self, t, k):\n",
    "        ''' Constructor: Create index from all substrings of size 'k'\n",
    "        param t: Text on which the index will be created\n",
    "        param k: length of the substring index'''\n",
    "        # class properties\n",
    "        self.k = k \n",
    "        self.index = []\n",
    "        # build k-mer index and append substring to index list\n",
    "        for i in range(len(t) - k + 1):\n",
    "            self.index.append((t[i:i+k],i))\n",
    "\n",
    "        # alphabetize by k-mer for using bisect\n",
    "        self.index.sort()\n",
    "        #for i in range (len(self.index)):\n",
    "            #print(self.index[i])  \n",
    "    \n",
    "    def query(self, p):\n",
    "        ''' Return index hits for first k-mer of P \n",
    "        param p: search pattern\n",
    "        returns: 1st index hit for p in index'''\n",
    "        # query with first k-mer of pattern p\n",
    "        # select kmer of pattern p\n",
    "        kmer = p[:self.k]\n",
    "        # do binary search in index\n",
    "        i = bisect.bisect_left(self.index, (kmer, -1))\n",
    "        hits = []\n",
    "        while i  < len(self.index) and self.index[i][0] == kmer:\n",
    "            hits.append(self.index[i][1])\n",
    "            print(i)\n",
    "        # collect matching index entries\n",
    "\n",
    "        return hits"
   ]
  },
  {
   "cell_type": "code",
   "execution_count": 3,
   "metadata": {
    "collapsed": true
   },
   "outputs": [],
   "source": [
    "def queryIndex(p, t, index):\n",
    "    \"\"\"Queries the index for pattern p in text t, using the index-object\"\"\"\n",
    "    offsets = []\n",
    "    #Instanz  erstellen und dann aufrufen\n",
    "    hits = index.query(p)\n",
    "\n",
    "    for hit in hits:\n",
    "     if p == t[hit:hit+len(p)]:\n",
    "        offsets.append(hit)\n",
    "\n",
    "    return offsets"
   ]
  },
  {
   "cell_type": "code",
   "execution_count": 4,
   "metadata": {
    "collapsed": true
   },
   "outputs": [],
   "source": [
    "t = 'ACTTGGAGATCTTTGAGGCTAGGTATTCGGGATCGAAGCTCATTTCGGGGATCGATTACGATATGGTGGGTATTCGGGA'\n",
    "p = 'GGTATTCGGGA'"
   ]
  },
  {
   "cell_type": "code",
   "execution_count": 5,
   "metadata": {},
   "outputs": [
    {
     "name": "stdout",
     "output_type": "stream",
     "text": [
      "('GGTA', 21)\n",
      "('GGTA', 68)\n",
      "[21, 68]\n"
     ]
    }
   ],
   "source": [
    "index = Index(t, 4)\n",
    "print(queryIndex(p, t, index))"
   ]
  },
  {
   "cell_type": "markdown",
   "metadata": {},
   "source": [
    "## Unit Tests"
   ]
  },
  {
   "cell_type": "code",
   "execution_count": 6,
   "metadata": {
    "collapsed": true
   },
   "outputs": [],
   "source": [
    "import unittest"
   ]
  },
  {
   "cell_type": "code",
   "execution_count": 7,
   "metadata": {
    "collapsed": true
   },
   "outputs": [],
   "source": [
    "class MyTest(unittest.TestCase):\n",
    "    def setUp(self):\n",
    "        t = 'ACTTGGAGATCTTTGAGGCTAGGTATTCGGGATCGAAGCTCATTTCGGGGATCGATTACGATATGGTGGGTATTCGGGA'\n",
    "        p = 'GGTATTCGGGA'\n",
    "        \n",
    "    def testQueryIndex(self):\n",
    "        self.assertEqual([21, 68], queryIndex(p, t, index))"
   ]
  },
  {
   "cell_type": "code",
   "execution_count": 8,
   "metadata": {},
   "outputs": [
    {
     "name": "stderr",
     "output_type": "stream",
     "text": [
      ".\n",
      "----------------------------------------------------------------------\n",
      "Ran 1 test in 0.001s\n",
      "\n",
      "OK\n"
     ]
    },
    {
     "name": "stdout",
     "output_type": "stream",
     "text": [
      "('GGTA', 21)\n",
      "('GGTA', 68)\n"
     ]
    },
    {
     "data": {
      "text/plain": [
       "<unittest.runner.TextTestResult run=1 errors=0 failures=0>"
      ]
     },
     "execution_count": 8,
     "metadata": {},
     "output_type": "execute_result"
    }
   ],
   "source": [
    "suite = unittest.TestLoader().loadTestsFromTestCase( MyTest )\n",
    "unittest.TextTestRunner(verbosity=1,stream=sys.stderr).run( suite )"
   ]
  }
 ],
 "metadata": {
  "anaconda-cloud": {},
  "kernelspec": {
   "display_name": "Python 3",
   "language": "python",
   "name": "python3"
  },
  "language_info": {
   "codemirror_mode": {
    "name": "ipython",
    "version": 3
   },
   "file_extension": ".py",
   "mimetype": "text/x-python",
   "name": "python",
   "nbconvert_exporter": "python",
   "pygments_lexer": "ipython3",
   "version": "3.11.8"
  }
 },
 "nbformat": 4,
 "nbformat_minor": 1
}
