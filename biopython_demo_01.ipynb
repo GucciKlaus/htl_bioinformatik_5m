{
  "nbformat": 4,
  "nbformat_minor": 0,
  "metadata": {
    "colab": {
      "name": "biopython_demo_01.ipynb",
      "provenance": [],
      "collapsed_sections": [
        "ZYEwvH90D1Lt"
      ],
      "toc_visible": true,
      "authorship_tag": "ABX9TyPp6CLq1oLERgQ20pC7y9YE",
      "include_colab_link": true
    },
    "kernelspec": {
      "name": "python3",
      "display_name": "Python 3"
    },
    "language_info": {
      "name": "python"
    }
  },
  "cells": [
    {
      "cell_type": "markdown",
      "metadata": {
        "id": "view-in-github",
        "colab_type": "text"
      },
      "source": [
        "<a href=\"https://colab.research.google.com/github/ulat/htl_bioinformatik_5m/blob/master/biopython_demo_01.ipynb\" target=\"_parent\"><img src=\"https://colab.research.google.com/assets/colab-badge.svg\" alt=\"Open In Colab\"/></a>"
      ]
    },
    {
      "cell_type": "code",
      "source": [
        "!pip install biopython\n",
        "!pip install reportlab"
      ],
      "metadata": {
        "colab": {
          "base_uri": "https://localhost:8080/"
        },
        "id": "CFijw4XrD8c_",
        "outputId": "f03ca5bc-ecf1-4b0a-b438-c48fd6bc541c"
      },
      "execution_count": 24,
      "outputs": [
        {
          "output_type": "stream",
          "name": "stdout",
          "text": [
            "Requirement already satisfied: biopython in /usr/local/lib/python3.7/dist-packages (1.79)\n",
            "Requirement already satisfied: numpy in /usr/local/lib/python3.7/dist-packages (from biopython) (1.19.5)\n",
            "Collecting reportlab\n",
            "  Downloading reportlab-3.6.5-cp37-cp37m-manylinux_2_17_x86_64.manylinux2014_x86_64.whl (2.7 MB)\n",
            "\u001b[K     |████████████████████████████████| 2.7 MB 5.0 MB/s \n",
            "\u001b[?25hRequirement already satisfied: pillow>=4.0.0 in /usr/local/lib/python3.7/dist-packages (from reportlab) (7.1.2)\n",
            "Installing collected packages: reportlab\n",
            "Successfully installed reportlab-3.6.5\n"
          ]
        }
      ]
    },
    {
      "cell_type": "markdown",
      "source": [
        "# Biopython - Demos"
      ],
      "metadata": {
        "id": "x7fKKq9hDxZV"
      }
    },
    {
      "cell_type": "markdown",
      "source": [
        "## 01 Intro"
      ],
      "metadata": {
        "id": "ZYEwvH90D1Lt"
      }
    },
    {
      "cell_type": "markdown",
      "source": [
        "**Line 1** imports the parse class available in the Bio.SeqIO module. Bio.SeqIO module is used to read and write the sequence file in different format and `parse’ class is used to parse the content of the sequence file.\n",
        "\n",
        "**Line 2** imports the SeqRecord class available in the Bio.SeqRecord module. This module is used to manipulate sequence records and SeqRecord class is used to represent a particular sequence available in the sequence file.\n",
        "\n",
        "**Line 3** imports Seq class available in the Bio.Seq module. This module is used to manipulate sequence data and Seq class is used to represent the sequence data of a particular sequence record available in the sequence file."
      ],
      "metadata": {
        "id": "_DHfHIAzEITr"
      }
    },
    {
      "cell_type": "code",
      "source": [
        "from Bio.SeqIO import parse \n",
        "from Bio.SeqRecord import SeqRecord \n",
        "from Bio.Seq import Seq "
      ],
      "metadata": {
        "id": "xv8hfBznD4zB"
      },
      "execution_count": 5,
      "outputs": []
    },
    {
      "cell_type": "markdown",
      "source": [
        "Open the fasta file"
      ],
      "metadata": {
        "id": "VLAf6xcZEbqF"
      }
    },
    {
      "cell_type": "code",
      "source": [
        "file = open(\"./example.fasta\") "
      ],
      "metadata": {
        "colab": {
          "base_uri": "https://localhost:8080/",
          "height": 0
        },
        "id": "A8T7iFDpEI1-",
        "outputId": "f6f0625d-c4fb-462b-d9bc-fa16437733db"
      },
      "execution_count": 6,
      "outputs": [
        {
          "output_type": "error",
          "ename": "FileNotFoundError",
          "evalue": "ignored",
          "traceback": [
            "\u001b[0;31m---------------------------------------------------------------------------\u001b[0m",
            "\u001b[0;31mFileNotFoundError\u001b[0m                         Traceback (most recent call last)",
            "\u001b[0;32m<ipython-input-6-7b16c711b073>\u001b[0m in \u001b[0;36m<module>\u001b[0;34m()\u001b[0m\n\u001b[0;32m----> 1\u001b[0;31m \u001b[0mfile\u001b[0m \u001b[0;34m=\u001b[0m \u001b[0mopen\u001b[0m\u001b[0;34m(\u001b[0m\u001b[0;34m\"./example.fasta\"\u001b[0m\u001b[0;34m)\u001b[0m\u001b[0;34m\u001b[0m\u001b[0;34m\u001b[0m\u001b[0m\n\u001b[0m",
            "\u001b[0;31mFileNotFoundError\u001b[0m: [Errno 2] No such file or directory: './example.fasta'"
          ]
        }
      ]
    },
    {
      "cell_type": "markdown",
      "source": [
        "Parse the content of the sequence file and returns the content as the list of SeqRecord object.\n",
        "\n",
        "Loop over the records using python for loop and prints the attributes of the sequence record (SqlRecord) such as id, name, description, sequence data, etc."
      ],
      "metadata": {
        "id": "u4pnZn1wEee9"
      }
    },
    {
      "cell_type": "code",
      "source": [
        "records = parse(file, \"fasta\") \n",
        "for record in records:\n",
        "  print(\"Id: %s\" % record.id) \n",
        "  print(\"Name: %s\" % record.name) \n",
        "  print(\"Description: %s\" % record.description) \n",
        "  print(\"Annotations: %s\" % record.annotations) \n",
        "  print(\"Sequence Data: %s\" % record.seq) "
      ],
      "metadata": {
        "id": "QqjsK2_EEeyS"
      },
      "execution_count": null,
      "outputs": []
    },
    {
      "cell_type": "markdown",
      "source": [
        "## 02 - Reverse Complement\n",
        "\n",
        "Nucleotide sequence can be reverse complemented to get new sequence. Also, the complemented sequence can be reverse complemented to get the original sequence. Biopython provides two methods to do this functionality − complement and reverse_complement. "
      ],
      "metadata": {
        "id": "yNh3NaDUIOeL"
      }
    },
    {
      "cell_type": "code",
      "source": [
        "nucleotide = Seq('TCGAAGTCAGTC') \n",
        "nucleotide.complement() "
      ],
      "metadata": {
        "colab": {
          "base_uri": "https://localhost:8080/"
        },
        "id": "IdTucSa_HtAb",
        "outputId": "b86b7da1-b4fe-4fd4-a290-8618ac8bf2e9"
      },
      "execution_count": 30,
      "outputs": [
        {
          "output_type": "execute_result",
          "data": {
            "text/plain": [
              "Seq('AGCTTCAGTCAG')"
            ]
          },
          "metadata": {},
          "execution_count": 30
        }
      ]
    },
    {
      "cell_type": "markdown",
      "source": [
        "## 03 - GC Percentage\n",
        "Genomic DNA base composition (GC content) is predicted to significantly affect genome functioning and species ecology. The GC content is the number of GC nucleotides divided by the total nucleotides."
      ],
      "metadata": {
        "id": "Id37EBV-JU0G"
      }
    },
    {
      "cell_type": "code",
      "source": [
        "from Bio.SeqUtils import GC \n",
        "nucleotide = Seq(\"GACTGACTTCGA\") \n",
        "GC(nucleotide)"
      ],
      "metadata": {
        "colab": {
          "base_uri": "https://localhost:8080/"
        },
        "id": "IRcSWa1tISdY",
        "outputId": "dec73919-5624-46e4-b468-63609870e3ff"
      },
      "execution_count": 32,
      "outputs": [
        {
          "output_type": "execute_result",
          "data": {
            "text/plain": [
              "50.0"
            ]
          },
          "metadata": {},
          "execution_count": 32
        }
      ]
    },
    {
      "cell_type": "markdown",
      "source": [
        "## 03 - Transcription\n",
        "\n",
        "Transcription is the process of changing DNA sequence into RNA sequence. The actual biological transcription process is performing a reverse complement (TCAG → CUGA) to get the mRNA considering the DNA as template strand. However, in bioinformatics and so in Biopython, we typically work directly with the coding strand and we can get the mRNA sequence by changing the letter T to U."
      ],
      "metadata": {
        "id": "YpiiI-wPKMkR"
      }
    },
    {
      "cell_type": "code",
      "source": [
        "from Bio.Seq import Seq \n",
        "from Bio.Seq import transcribe \n",
        "dna_seq = Seq(\"ATGCCGATCGTAT\",)\n",
        "transcribe(dna_seq)"
      ],
      "metadata": {
        "colab": {
          "base_uri": "https://localhost:8080/"
        },
        "id": "hw0LS4z8JZMP",
        "outputId": "a4ae1e33-9134-456c-ce6f-fc2dd1706c7d"
      },
      "execution_count": 33,
      "outputs": [
        {
          "output_type": "execute_result",
          "data": {
            "text/plain": [
              "Seq('AUGCCGAUCGUAU')"
            ]
          },
          "metadata": {},
          "execution_count": 33
        }
      ]
    },
    {
      "cell_type": "markdown",
      "source": [
        "## 04 - Translation\n",
        "\n",
        "Translation is a process of translating RNA sequence to protein sequence."
      ],
      "metadata": {
        "id": "OO1Td6g9Kz0n"
      }
    },
    {
      "cell_type": "code",
      "source": [
        "rna_seq = Seq(\"AUGGCCAUUGUAAU\") \n",
        "rna_seq "
      ],
      "metadata": {
        "colab": {
          "base_uri": "https://localhost:8080/"
        },
        "id": "Jb9_wkkwKYbw",
        "outputId": "314741d7-724f-4a73-ab57-f216b48f480f"
      },
      "execution_count": 35,
      "outputs": [
        {
          "output_type": "execute_result",
          "data": {
            "text/plain": [
              "Seq('AUGGCCAUUGUAAU')"
            ]
          },
          "metadata": {},
          "execution_count": 35
        }
      ]
    },
    {
      "cell_type": "code",
      "source": [
        "rna = Seq('AUGGCCAUUGUAAUGGGCCGCUGAAAGGGUGCCCGA') \n",
        "rna.translate() "
      ],
      "metadata": {
        "colab": {
          "base_uri": "https://localhost:8080/"
        },
        "id": "GWHWd7lGK2WM",
        "outputId": "f6317723-b04d-435d-e411-49561b35ea22"
      },
      "execution_count": 39,
      "outputs": [
        {
          "output_type": "execute_result",
          "data": {
            "text/plain": [
              "Seq('MAIVMGR*KGAR')"
            ]
          },
          "metadata": {},
          "execution_count": 39
        }
      ]
    },
    {
      "cell_type": "markdown",
      "source": [
        "Here, the stop codons are indicated with an asterisk ’*’.\n",
        "\n",
        "It is possible in translate() method to stop at the first stop codon. To perform this, you can assign to_stop=True in translate() as follows −"
      ],
      "metadata": {
        "id": "lgQWiBiqLRMz"
      }
    },
    {
      "cell_type": "code",
      "source": [
        "rna.translate(to_stop = True)"
      ],
      "metadata": {
        "colab": {
          "base_uri": "https://localhost:8080/"
        },
        "id": "xB114MeXLDLL",
        "outputId": "0344bb2f-d6aa-45d0-82c3-cb532af40dd1"
      },
      "execution_count": 40,
      "outputs": [
        {
          "output_type": "execute_result",
          "data": {
            "text/plain": [
              "Seq('MAIVMGR')"
            ]
          },
          "metadata": {},
          "execution_count": 40
        }
      ]
    },
    {
      "cell_type": "markdown",
      "source": [
        "### Translation Table"
      ],
      "metadata": {
        "id": "8wzp7SzILb_z"
      }
    },
    {
      "cell_type": "code",
      "source": [
        "from Bio.Data import CodonTable\n",
        "table = CodonTable.unambiguous_dna_by_name[\"Standard\"] \n",
        "print(table)"
      ],
      "metadata": {
        "colab": {
          "base_uri": "https://localhost:8080/"
        },
        "id": "nlcdk-UBLVXs",
        "outputId": "db8a26ce-3762-402e-9bf2-02d3589b6f09"
      },
      "execution_count": 41,
      "outputs": [
        {
          "output_type": "stream",
          "name": "stdout",
          "text": [
            "Table 1 Standard, SGC0\n",
            "\n",
            "  |  T      |  C      |  A      |  G      |\n",
            "--+---------+---------+---------+---------+--\n",
            "T | TTT F   | TCT S   | TAT Y   | TGT C   | T\n",
            "T | TTC F   | TCC S   | TAC Y   | TGC C   | C\n",
            "T | TTA L   | TCA S   | TAA Stop| TGA Stop| A\n",
            "T | TTG L(s)| TCG S   | TAG Stop| TGG W   | G\n",
            "--+---------+---------+---------+---------+--\n",
            "C | CTT L   | CCT P   | CAT H   | CGT R   | T\n",
            "C | CTC L   | CCC P   | CAC H   | CGC R   | C\n",
            "C | CTA L   | CCA P   | CAA Q   | CGA R   | A\n",
            "C | CTG L(s)| CCG P   | CAG Q   | CGG R   | G\n",
            "--+---------+---------+---------+---------+--\n",
            "A | ATT I   | ACT T   | AAT N   | AGT S   | T\n",
            "A | ATC I   | ACC T   | AAC N   | AGC S   | C\n",
            "A | ATA I   | ACA T   | AAA K   | AGA R   | A\n",
            "A | ATG M(s)| ACG T   | AAG K   | AGG R   | G\n",
            "--+---------+---------+---------+---------+--\n",
            "G | GTT V   | GCT A   | GAT D   | GGT G   | T\n",
            "G | GTC V   | GCC A   | GAC D   | GGC G   | C\n",
            "G | GTA V   | GCA A   | GAA E   | GGA G   | A\n",
            "G | GTG V   | GCG A   | GAG E   | GGG G   | G\n",
            "--+---------+---------+---------+---------+--\n"
          ]
        }
      ]
    },
    {
      "cell_type": "markdown",
      "source": [
        "## 05 SeqIO"
      ],
      "metadata": {
        "id": "jn7ig3onOmP4"
      }
    },
    {
      "cell_type": "markdown",
      "source": [
        "FASTA is the most basic file format for storing sequence data. Originally, FASTA is a software package for sequence alignment of DNA and protein developed during the early evolution of Bioinformatics and used mostly to search the sequence similarity."
      ],
      "metadata": {
        "id": "QEFFYfLxPCu7"
      }
    },
    {
      "cell_type": "code",
      "source": [
        "from Bio.SeqRecord import SeqRecord\n",
        "from Bio.SeqIO import parse"
      ],
      "metadata": {
        "id": "SiuLe_SOLhUR"
      },
      "execution_count": 49,
      "outputs": []
    },
    {
      "cell_type": "code",
      "source": [
        "file = open('./orchid.fasta') \n",
        "for record in parse(file, \"fasta\"): \n",
        "  print(record.id) "
      ],
      "metadata": {
        "id": "daMK9TJtPAF2"
      },
      "execution_count": null,
      "outputs": []
    },
    {
      "cell_type": "markdown",
      "source": [
        "Here, the `parse()` method returns an iterable object which returns SeqRecord on every iteration. Being iterable, it provides lot of sophisticated and easy methods and let us see some of the features.\n",
        "\n",
        "The `next()` method returns the next item available in the iterable object"
      ],
      "metadata": {
        "id": "U8IaPtT8P5ZL"
      }
    },
    {
      "cell_type": "code",
      "source": [
        "first_seq_record = next(parse(open('./orchid.fasta'),'fasta'))\n",
        "first_seq_record"
      ],
      "metadata": {
        "colab": {
          "base_uri": "https://localhost:8080/"
        },
        "id": "YygueLsUPUOF",
        "outputId": "c5caf112-8a71-4156-a22d-910dfa553afc"
      },
      "execution_count": 52,
      "outputs": [
        {
          "output_type": "execute_result",
          "data": {
            "text/plain": [
              "SeqRecord(seq=Seq('CGTAACAAGGTTTCCGTAGGTGAACCTGCGGAAGGATCATTGATGAGACCGTGG...CGC'), id='gi|2765658|emb|Z78533.1|CIZ78533', name='gi|2765658|emb|Z78533.1|CIZ78533', description='gi|2765658|emb|Z78533.1|CIZ78533 C.irapeanum 5.8S rRNA gene and ITS1 and ITS2 DNA', dbxrefs=[])"
            ]
          },
          "metadata": {},
          "execution_count": 52
        }
      ]
    },
    {
      "cell_type": "markdown",
      "source": [
        "We can convert the iterable object into list using list comprehension as given below"
      ],
      "metadata": {
        "id": "wHJAER61RkmG"
      }
    },
    {
      "cell_type": "code",
      "source": [
        "seq_iter = parse(open('./orchid.fasta'),'fasta')\n",
        "all_seq = [seq_record for seq_record in seq_iter]\n",
        "len(all_seq)"
      ],
      "metadata": {
        "colab": {
          "base_uri": "https://localhost:8080/"
        },
        "id": "CJ8BopRIQdct",
        "outputId": "2638909d-8ca4-400a-dd36-5c72d0fc8ea6"
      },
      "execution_count": 53,
      "outputs": [
        {
          "output_type": "execute_result",
          "data": {
            "text/plain": [
              "94"
            ]
          },
          "metadata": {},
          "execution_count": 53
        }
      ]
    },
    {
      "cell_type": "markdown",
      "source": [
        "Here, we have used `len` method to get the total count. We can get sequence with maximum length:"
      ],
      "metadata": {
        "id": "ATwSefbESAJt"
      }
    },
    {
      "cell_type": "code",
      "source": [
        "seq_iter = parse(open('./orchid.fasta'),'fasta') \n",
        "max_seq = max(len(seq_record.seq) for seq_record in seq_iter) \n",
        "max_seq "
      ],
      "metadata": {
        "colab": {
          "base_uri": "https://localhost:8080/"
        },
        "id": "WHdEMNqeRscD",
        "outputId": "2553cb0d-b913-4fce-8f7c-9dedca647ede"
      },
      "execution_count": 56,
      "outputs": [
        {
          "output_type": "execute_result",
          "data": {
            "text/plain": [
              "789"
            ]
          },
          "metadata": {},
          "execution_count": 56
        }
      ]
    },
    {
      "cell_type": "markdown",
      "source": [
        "We can filter the sequence as well:"
      ],
      "metadata": {
        "id": "yPTO5ETzSt38"
      }
    },
    {
      "cell_type": "code",
      "source": [
        "seq_iter = parse(open('./orchid.fasta'),'fasta') \n",
        "seq_under_600 = [seq_record for seq_record in seq_iter if len(seq_record.seq) < 600] \n",
        "for seq in seq_under_600: \n",
        "  print(seq.id) "
      ],
      "metadata": {
        "colab": {
          "base_uri": "https://localhost:8080/"
        },
        "id": "QBXG0lVxSHBI",
        "outputId": "de427b5d-a063-4288-ebdd-c2073f145ad7"
      },
      "execution_count": 58,
      "outputs": [
        {
          "output_type": "stream",
          "name": "stdout",
          "text": [
            "gi|2765606|emb|Z78481.1|PIZ78481\n",
            "gi|2765605|emb|Z78480.1|PGZ78480\n",
            "gi|2765601|emb|Z78476.1|PGZ78476\n",
            "gi|2765595|emb|Z78470.1|PPZ78470\n",
            "gi|2765594|emb|Z78469.1|PHZ78469\n",
            "gi|2765564|emb|Z78439.1|PBZ78439\n"
          ]
        }
      ]
    },
    {
      "cell_type": "markdown",
      "source": [
        "Writing a collection of `SqlRecord` objects (parsed data) into file is as simple as calling the `SeqIO.write`."
      ],
      "metadata": {
        "id": "S33sRj96S-mc"
      }
    },
    {
      "cell_type": "code",
      "source": [
        "from Bio.SeqIO import *\n",
        "file = open(\"./converted.fasta\", \"w\") \n",
        "write(seq_under_600[0], file, \"fasta\")"
      ],
      "metadata": {
        "colab": {
          "base_uri": "https://localhost:8080/"
        },
        "id": "umZKODZ8S0pt",
        "outputId": "eb969c27-5ad2-48c7-dfc8-c96e7aefda4b"
      },
      "execution_count": 68,
      "outputs": [
        {
          "output_type": "execute_result",
          "data": {
            "text/plain": [
              "1"
            ]
          },
          "metadata": {},
          "execution_count": 68
        }
      ]
    },
    {
      "cell_type": "markdown",
      "source": [
        ""
      ],
      "metadata": {
        "id": "wBwCs05rUAqA"
      }
    },
    {
      "cell_type": "code",
      "source": [
        "!wget https://raw.githubusercontent.com/biopython/biopython/master/Doc/examples/ls_orchid.fasta"
      ],
      "metadata": {
        "colab": {
          "base_uri": "https://localhost:8080/"
        },
        "id": "eD7arNRKX_Bd",
        "outputId": "8bf2520f-868c-4b15-a846-0626b4f7fe95"
      },
      "execution_count": 80,
      "outputs": [
        {
          "output_type": "stream",
          "name": "stdout",
          "text": [
            "--2022-01-17 09:30:54--  https://raw.githubusercontent.com/biopython/biopython/master/Doc/examples/ls_orchid.fasta\n",
            "Resolving raw.githubusercontent.com (raw.githubusercontent.com)... 185.199.109.133, 185.199.108.133, 185.199.110.133, ...\n",
            "Connecting to raw.githubusercontent.com (raw.githubusercontent.com)|185.199.109.133|:443... connected.\n",
            "HTTP request sent, awaiting response... 200 OK\n",
            "Length: 76480 (75K) [text/plain]\n",
            "Saving to: ‘ls_orchid.fasta’\n",
            "\n",
            "ls_orchid.fasta     100%[===================>]  74.69K  --.-KB/s    in 0.02s   \n",
            "\n",
            "2022-01-17 09:30:54 (4.83 MB/s) - ‘ls_orchid.fasta’ saved [76480/76480]\n",
            "\n"
          ]
        }
      ]
    },
    {
      "cell_type": "code",
      "source": [
        "from Bio import SeqIO \n",
        "from Bio.SeqIO import parse \n",
        "seq_record = next(parse(open('./orchid.gbk'),'genbank'))\n",
        "print(seq_record.id)\n",
        "print(seq_record.name)\n",
        "print(seq_record.seq)\n",
        "Seq('CGTAACAAGGTTTCCGTAGGTGAACCTGCGGAAGGATCATTGATGAGACCGTGG...CGC') \n",
        "print(seq_record.description)"
      ],
      "metadata": {
        "colab": {
          "base_uri": "https://localhost:8080/"
        },
        "id": "aB4NkA57UBK-",
        "outputId": "047fe5ed-bcef-43d8-8d71-00e860996b28"
      },
      "execution_count": 83,
      "outputs": [
        {
          "output_type": "stream",
          "name": "stdout",
          "text": [
            "NC_005816.1\n",
            "NC_005816\n",
            "TGTAACGAACGGTGCAATAGTGATCCACACCCAACGCCTGAAATCAGATCCAGGGGGTAATCTGCTCTCCTGATTCAGGAGAGTTTATGGTCACTTTTGAGACAGTTATGGAAATTAAAATCCTGCACAAGCAGGGAATGAGTAGCCGGGCGATTGCCAGAGAACTGGGGATCTCCCGCAATACCGTTAAACGTTATTTGCAGGCAAAATCTGAGCCGCCAAAATATACGCCGCGACCTGCTGTTGCTTCACTCCTGGATGAATACCGGGATTATATTCGTCAACGCATCGCCGATGCTCATCCTTACAAAATCCCGGCAACGGTAATCGCTCGCGAGATCAGAGACCAGGGATATCGTGGCGGAATGACCATTCTCAGGGCATTCATTCGTTCTCTCTCGGTTCCTCAGGAGCAGGAGCCTGCCGTTCGGTTCGAAACTGAACCCGGACGACAGATGCAGGTTGACTGGGGCACTATGCGTAATGGTCGCTCACCGCTTCACGTGTTCGTTGCTGTTCTCGGATACAGCCGAATGCTGTACATCGAATTCACTGACAATATGCGTTATGACACGCTGGAGACCTGCCATCGTAATGCGTTCCGCTTCTTTGGTGGTGTGCCGCGCGAAGTGTTGTATGACAATATGAAAACTGTGGTTCTGCAACGTGACGCATATCAGACCGGTCAGCACCGGTTCCATCCTTCGCTGTGGCAGTTCGGCAAGGAGATGGGCTTCTCTCCCCGACTGTGTCGCCCCTTCAGGGCACAGACTAAAGGTAAGGTGGAACGGATGGTGCAGTACACCCGTAACAGTTTTTACATCCCACTAATGACTCGCCTGCGCCCGATGGGGATCACTGTCGATGTTGAAACAGCCAACCGCCACGGTCTGCGCTGGCTGCACGATGTCGCTAACCAACGAAAGCATGAAACAATCCAGGCCCGTCCCTGCGATCGCTGGCTCGAAGAGCAGCAGTCCATGCTGGCACTGCCTCCGGAGAAAAAAGAGTATGACGTGCATCTTGATGAAAATCTGGTGAACTTCGACAAACACCCCCTGCATCATCCACTCTCCATCTACGACTCATTCTGCAGAGGAGTGGCGTGATGATGGAACTGCAACATCAACGACTGATGGCGCTCGCCGGGCAGTTGCAACTGGAAAGCCTTATAAGCGCAGCGCCTGCGCTGTCACAACAGGCAGTAGACCAGGAATGGAGTTATATGGACTTCCTGGAGCATCTGCTTCATGAAGAAAAACTGGCACGTCATCAACGTAAACAGGCGATGTATACCCGAATGGCAGCCTTCCCGGCGGTGAAAACGTTCGAAGAGTATGACTTCACATTCGCCACCGGAGCACCGCAGAAGCAACTCCAGTCGTTACGCTCACTCAGCTTCATAGAACGTAATGAAAATATCGTATTACTGGGGCCATCAGGTGTGGGGAAAACCCATCTGGCAATAGCGATGGGCTATGAAGCAGTCCGTGCAGGTATCAAAGTTCGCTTCACAACAGCAGCAGATCTGTTACTTCAGTTATCTACGGCACAACGTCAGGGCCGTTATAAAACGACGCTTCAGCGTGGAGTAATGGCCCCCCGCCTGCTCATCATTGATGAAATAGGCTATCTGCCGTTCAGTCAGGAAGAAGCAAAGCTGTTCTTCCAGGTCATCGCTAAACGTTACGAAAAGAGCGCAATGATCCTGACATCCAATCTGCCGTTCGGGCAGTGGGATCAAACGTTCGCCGGTGATGCAGCACTGACCTCAGCGATGCTGGACCGTATCTTACACCACTCACATGTCGTTCAAATCAAAGGAGAAAGCTATCGACTCAGACAGAAACGAAAGGCCGGGGTTATAGCAGAAGCTAATCCTGAGTAAAACGGTGGATCAATATTGGGCCGTTGGTGGAGATATAAGTGGATCACTTTTCATCCGTCGTTGACACCCTGATGAATTCACGTGTTCACGCCTGAATAACAAGAATGCCGGAGATACGCAGTCATATTTTTTACACAATTCTCTAATCCCGACAAGGTCGTAGGTCGTTATAGGAAAATTCTTAGCACCATTCCGGAACAATCAGAACAGCAGGCCATGAACGACTGACAACATTACGAATATAAAAAACGCACCCGGGCCAGACATTCCCCCTACTGATTAAACCAGCCGGACTTGTCCACGGAACGGTCTTTTTAAACCGACACACAGTCTGAGTACAGATACATGTCACGATGATGCAGGATTAGCGGAAGAGTGTGAGCACGTTTCCGGGAACTGTGGTGAACCATAGCTCAATATTCGAGTGAGGGCATACCGGAAACGCGCTCAGATTCGTTGTAACGCGATTTTCCGTACCGGGCAATTTTTTCAGTTGTTTTTTCGTTTCATGTCGTCAGAAACGTTCTGAGCGCGTTTCCGGCATCTGATGCTACGCAAACCATCCCCATGGTCAGTTGACAGCCGGAAACACGCGGGTGTCGTTTTAGCGTATCGACGGGACGGCGTCGAGAAGCACAAAAAACAGATGTTGTACTCAGTCAGTTGTTTTACAGACAGCACTGCGGCAGATTGAAAAAGTACCGTACTTTCAGGAATGTCCAGAAACCATGTGTCAGACTTCGTTCTCCCCCTTCCGGGTGAATTTTTTTGTCATCCGTTCAGGAATCTCTTTATAACGATTACTCCATTTCAGGATTTTTTATGTGGCGTTTACTACAGGCAGGATATTCAAAGGCAAAAAAATCCCCCGGAACAGGCGGAACCCGGACAGGGGGAGAACGAATCGCTAAATAATTTTCGTAGTTGTATTTCCCATCGTTGCTACTGCAACGGGATGAATTTGCCGCAGTTTATCCTGTAAAACAATCCTGATTTACTCACACTCCACATATCACTGACGGAGCACAACGGAATAGTGAACAAACAACAACAAACTGCGCTGAATATGGCGCGATTTATCAGAAGCCAGAGCCTGATACTGCTTGAAAAACTGGATGCTCTGGATGCCGACGAGCAGGCGGCCATGTGTGAACGACTGCACGAACTCGCGGAAGAACTCCAGAACAGCATCCAGGCTCGCTTTGAAGCCGAAAGTGAAACAGGAACATAACGAAGCTCCCGGAGACGGTCACAGCTTGTCTGTGAACGGATGCCGGGAGCAGACAAGCCCGTCAGGGCGCGTCAGCGGGTTTTAGCGGGTGTCGGGGCGCAGCCATGACCCAGTCACGTAGCGATAGCGGAGTGTATACTGGCTTAGTCATGCGGCATCAGTGCGGATTGTATGAAAAGTGCACCATGTACGGTGTGAAATGCCGCACAGATGCGTAAGGAGAACATGCAGATGCCGATGCTCTTCCGCTTCCTCGCTCACTGACTCGCTGCGCTCGGTCGTTCGGCTGCGGCGAGCGGTGTCTGCTCACTCAAAAGCGGTGATACTGTTATCCACACAATCAGGGGATAACGCCGGAAAGAACATGTGAGCAAAAAACGAAGACCCCAGAAAAGGCCGCGCCGGAGGCGCTTTTTCCATAGGCTCCGCCCCCCTGACGAGCATCACAAAAATCGACGCTCAAGTCAGAGGTGGCGAAACCCGACAGGACTTAAAGATACCAGGCGTTTCCCCCCGGAAGCTCCCTCGTGCGCTCTCCTGTTCCGACCCTGCCGCTTACCGGATACCTCTCCGCCTTTCTCCCTTCGGGAAGCGTGGCGCTTTCTCATAGCTCACGCTGTTGGTATCTCAGTTCGGTGTAGGTCGTTCGCTCCAAGCTGGGCTGTGTGCACGAACCCCCCGTTCAGCCCGACCACTGCGCCTTATCCGGTAACTATCGTCTTGAGTCCAACCCGGTAAGACACGACTTTACGCCACTGGCAGCAGCCATTGGTAACTGAAAAGTGGATTTAGATACGCAGAACTCTTGAAGTTGAAGCCTTATCGCGGCTACACTGAAAGGACAGCATTTGGTATCTGTGCTCCACTTAAGCCAGCTACCACAGGTTAGAAAGCCTGAGAAACTTCTAACCTTCGAAAGAACCCACGCCTGAGAACGTGGGTTTTTTCGTTTACAGGCAGCAGATTACGCGCAGAAAAAAAGGATCTCAAGAAGATCCTTTGATCTTTTCTACTGAATTGCGCTCCCGATCAGTTCAGCAGAAGATTATGATGGGGTTCTATGGGTATTGCTGCGGTAACACCCATGTTACTTGAGGTTGTATGTAGTCTGTGTAGAATTATACACATAAGGCTTAAACTGCTCTTTTTTTTCAATATGCAATTGGAAGTTCATTGACTACATAAATAGATTATTCCAAATAATTTATTTATGTAAGAACAGGATGGGAGGGGGAATGATCTCAAAGTTATTTTGCTTGGCTCTCATATTTTTATCATCAAGTGGCCTTGCAGAAAAAAACACATATACAGCAAAAGACATCTTGCAAAACCTAGAATTAAATACCTTTGGCAATTCATTGTCTCATGGCATCTATGGGAAACAGACAACCTTCAAGCAAACCGAGTTTACAAATATTAAAAGCAACACCAAAAAACACATTGCACTTATCAATAAAGACAACTCATGGATGATATCATTAAAAATACTAGGAATTAAGAGAGATGAGTATACTGTCTGTTTTGAAGATTTCTCTCTAATAAGACCGCCAACATATGTAGCCATACATCCTCTACTTATAAAAAAAGTAAAATCTGGAAACTTTATAGTAGTGAAAGAAATAAAGAAATCTATCCCTGGTTGCACTGTATATTATCATTAATAGCAAGCCCCTCATTATTATGAGGGGCTCATGGTTATTTTAACAATCCACTATCGATATCTTTTTGCACCAGAGCGCCCTCTCGTTTACGTCTGTCAGACATTCCATCAACAATATTATTAAAAGCATTTACAAGGCCATTCCAGTCTTTTGCGATAACTTTATTCCATACTGTGGGAGCAGTTCTGGATAACTTAAACCCTTTTTGATATCCAATAGACACCAGTGCTGTACGGGTTCTCAACGGTAAATCGCTGAACCGAAGACCGATATTAGCGTCATTGAAAAGACCTTCAATCTTATGTGAGAATTTATCAATATAAATATTAGATAAGAGATGAGCTTCATTATCAGAAAGCGTCAGAGGTGCTGTTCTCACTTTATCATAAGCCTCCTTCCCTCGAAGCATATAATACCCATCAAGTCTATCTGCAATATACTGAGGGACACCGTCATTCAATAAATCCTGTTTGCTTCGCTGACCAAGGTCAACCCCGGAACCGAATGTAACACCGGTACTGTTAAAATAATCGCTACTAGGATTAGACGGAAAATGACTTGTCGGATTAAACCCTTCAAAACCATTACTGGAGAAAATATCGTGGTCAACAATATTTACCGAACGACGTAAAAATTCCTTCAGTTGACTAATATTGTCAAAGTTAATGACAGTGTTGTCCGCTAGGACGATGCGATTTCGGTTATTATTCAGAATGTCTTCGTTCTCTTTCTTATCGAGATGTTCAATAGATTCGGCAATCGTTCCCTCAAGAACCATGACACGGTAGACTTTCACACCGTCTTTTTCCTGACCTGTTTCAACAGTTATTTTCTGTTCGTAAGACACGGTCCCTTCAGTTTTTGAAATTTTACTTTCCTGGCGGATCTTATTTGAATATTCACTGTCTTTCTCCATCTCCGTATCAATCGGAAACCCCATAATGTACATCAGTTTAAAATTACTCCGGCCAGGCAGATCCACATAATGTGGTAATGCAATTGTAATCGAATTAGCTTCAAAATTTGGTCTGTAACTGCTTAATGTACTTCCGGAAAAGAGAAAAGCCGGAACACCACCTGAACCATTCACTACCATTGTATCTGACATAAAAATTCCTCTTTAACACATAAAAAAAACAATAAGTTAAAAAAATACTGTACATAAAAGCACTGTTTTTATGTACAGTAATAAAATTACGCCGCTTTATTTTCTCTGTCAATAATATGAAATTTCATTTTTGTGATCTGAATCACTCTTATAAAAATCAGGAAGGGAAGATTCGCAGCAGAAAAACAGCACCGGGTAACATCAGAAAAAAACAGAAAGGAGATAACGTGAGCAAAACAAAATCTGGTCGCCACCGACTGAGCAAAACAGACAAACGCCTGCTGGCTGCACTTGTCGTTGCCGGATACGAAGAACGGACAGCCCGTGACCTCATCCAGAAACACGTTTACACACTGACACAGGCCGACCTGCGCCATCTGGTCAGTGAAATCAGTAACGGTGTGGGACAGTCACAGGCCTACGATGCGATTTACCAGGCGAGACGCATTCGTCTCGCCCGTAAATACCTGAGCGGAAAAAAACCGGAAGGGGTGGAACCCCGGGAAGGGCAGGAACGGGAAGATTTACCATAACTCCCGTTATCAGTACCATCGGCTCAACGCTCGTTGTCGGATCTGAAAAATTCGCTCAAAAGATCATATTTCCCTGGATATTTTCCACCGTTTCTTATGTGAGAAAAGTCACATAATTCTGTCAGACGACGAGAAAACGGATATCGATTATTGTTTAATATTTTTACATTATTAAAAATGAAATTAGATAATCAGATACAAATAATATGTTTTCGTTCATGCAGAGAGATTAAGGGTGTCTAATGAAGAAAAGTTCTATTGTGGCAACCATTATAACTATTCTGTCCGGGAGTGCTAATGCAGCATCATCTCAGTTAATACCAAATATATCCCCTGACAGCTTTACAGTTGCAGCCTCCACCGGGATGCTGAGTGGAAAGTCTCATGAAATGCTTTATGACGCAGAAACAGGAAGAAAGATCAGCCAGTTAGACTGGAAGATCAAAAATGTCGCTATCCTGAAAGGTGATATATCCTGGGATCCATACTCATTTCTGACCCTGAATGCCAGGGGGTGGACGTCTCTGGCTTCCGGGTCAGGTAATATGGATGACTACGACTGGATGAATGAAAATCAATCTGAGTGGACAGATCACTCATCTCATCCTGCTACAAATGTTAATCATGCCAATGAATATGACCTCAATGTGAAAGGCTGGTTACTCCAGGATGAGAATTATAAAGCAGGTATAACAGCAGGATATCAGGAAACACGTTTCAGTTGGACAGCTACAGGTGGTTCATATAGTTATAATAATGGAGCTTATACCGGAAACTTCCCGAAAGGAGTGCGGGTAATAGGTTATAACCAGCGCTTTTCTATGCCATATATTGGACTTGCAGGCCAGTATCGCATTAATGATTTTGAGTTAAATGCATTATTTAAATTCAGCGACTGGGTTCGGGCACATGATAATGATGAGCACTATATGAGAGATCTTACTTTCCGTGAGAAGACATCCGGCTCACGTTATTATGGTACCGTAATTAACGCTGGATATTATGTCACACCTAATGCCAAAGTCTTTGCGGAATTTACATACAGTAAATATGATGAGGGCAAAGGAGGTACTCAGATCATTGATAAGAATAGTGGAGATTCTGTCTCTATTGGCGGAGATGCTGCCGGTATTTCCAATAAAAATTATACTGTGACGGCGGGTCTGCAATATCGCTTCTGAAAAATACAGATCATATCTCTCTTTTCATCCTCCCCTAGCGGGGAGGATGTCTGTGGAAAGGAGGTTGGTGTTTGACCAACCTTCAGATGTGTGAAAAATCACCTTTTTCACCATAATGACGGGGCGCTCATTCTGTTGTTTTGCCTTGACATTCTCCACGTCTTTCAGGGCATGGAGAAGGTCAAATTAGACATGGAACGCTACTCTCCTTCCTGTAGGAAGCTCAACATCCAAGCTTAATTTGCCTCCCATTGCTTCAACGTAACGCTTTAACGTCGCCAGCTTTAAATCATTTCCGCGCTGCTCCAGCTTTGTTACTGCTGGCTGGCTTATACCCATCGCCTCAGCAACTTGTTTTTGTGATAACTGGAGTTCTTCACGCATCATCTGCAAGCCGACCTCAAGAATCATCTCATCTGCCATTTCTTTAATTCGTGTCTGGCTTTCAGGTGAACGACTGGCAATCACCTCATCTAATGTTCTCATTACTTGCTCTCCAGTGTGTTCAGATGTGCTGTAAATTCATCCTCAGCTATACGCACCAGTTTTTCATAAAACCGCTTATCATTACTTTTATCTCCTGCACAAAGAACGATAGCCCGACGAATCGGATCGAACGCATAAAAGGCTCTTATCGGACGGCCAGAAAACTGAACGCGAAGCTCTTTCATATTTTTGTACCGAGAACCTTTCACGGTATCGGCATATGGCCTGGGTAACTCAGGTCCGTAAACCTGTAGCTTTTTCAAATCAGCCAAAACCTTTTCCTGAAGAGCGTCTTCTTGCTCATTTAGCCAGTCGTCAAATCGCTGGCTAAAAAGTACCATCCACATGCTCAACCCTATAACCTGTAGCTTACCCCACTAACAATATAACCTACGAGTTATATTTTCAAGAAAAGCTGGCTATTTAACATAACGGCAATTTGTACGCACCACTGAAATGCGTTCAGCGCGATCACGGCAACAGACAGGCAAAAATAGCAACAAACCTCCCGAAAAACCGCCGCGATCGCGCCTGATAAATTTTAACCTTATGCATATCTATGCAGCCAGGCGAATCACGAACGAATTGCCTGCCTGATGTAACTGAAACGGGTGTTTTTTCCTGATTTGGTGGGCGTGGAAGACGGAACATGAACGGGAAAACAGAATTCATGCCAGATGAGCGCGATCTGGCAATTAAGGCAAAACACAGCAACAAAGACACGCCAGAATCGCGCCCGGATATGTTTTAACGCGATTTTCAGACTCAGACAAATTCAGCAGAATGCTACTCCATTCACCGGGCTGATGGTGAATACATGCGTATCCAGGATGAGTACATTTCTGGCTCTGCCACAGCTCTGTCTGTTGGCAGCTTTCGCCTGTCCGGAAACCTGCTTAAAACGCTCCCGAAAGGCCTCTGAACCAGAAAGCAACAAAACACAGGCCATTAAGTAAATCGCGTTAAAACACGTCTGATGGATTGCTGCAAAAAAAAGTCCCTAATGGAGCAGGGACTGTTAAACCCAGTGAATAGCGTCTAAATTAAAGTAAGAATACGACCAGGTACTCTTCAGAAAAGAGATTAATCCACCGCACAGAATAATCAACAGTAAAAACAAACAACCCTGATTTTTTATTTTTCTTTTTTTCGATAAAAACAAAATTAAAGAAATAATTAATCAGAACATTCCTTAACTTCAGGGCATTGCCTGTGTTCCATTTTGTGATTAGTCTGAAACTTCCGAAGGTGGATAACACCCGGTATTTTTTTGCTCACATAAAGCCCCTCCTTCAGGCAGAGGGGCTTTTTCTTTGCCACCACATAAAAAAGGCCCTCACAGGAGGTGTTCTGTGAGGGCGTATGATAAGGACTGAATCGATGGTTAATATGTCTAGTCCTGACTTTTGCATCTCCGAATATAAAACCCTGTTTAACGGCATGCAAAACCAAAAAATAAAAATGTGACATCGCAATGCCAGATAATATTGACGCATGAGGGAATGCGTACCCCGACCCCTG\n",
            "Yersinia pestis biovar Microtus str. 91001 plasmid pPCP1, complete sequence\n"
          ]
        }
      ]
    },
    {
      "cell_type": "markdown",
      "source": [
        "## 06 - Sequence Alignment"
      ],
      "metadata": {
        "id": "T_TQAopjJYs-"
      }
    },
    {
      "cell_type": "code",
      "source": [
        "from Bio import AlignIO"
      ],
      "metadata": {
        "id": "gIIhyLsrWd4B"
      },
      "execution_count": 4,
      "outputs": []
    },
    {
      "cell_type": "code",
      "source": [
        "alignment = AlignIO.read(open(\"./PF18225_seed.txt\"), \"stockholm\")\n",
        "\n",
        "print(alignment)"
      ],
      "metadata": {
        "colab": {
          "base_uri": "https://localhost:8080/"
        },
        "id": "MF1QakBRJcIi",
        "outputId": "e98f3595-69f2-4bdc-e686-0b657ea0ef84"
      },
      "execution_count": 5,
      "outputs": [
        {
          "output_type": "stream",
          "name": "stdout",
          "text": [
            "Alignment with 5 rows and 65 columns\n",
            "AINRNTQQLTQDLRAMPNWSLRFVYIVDRNNQDLLKRPLPPGIM...NRK B3PFT7_CELJU/62-126\n",
            "AVNATEREFTERIRTLPHWARRNVFVLDSQGFEIFDRELPSPVA...NRT K4KEM7_SIMAS/61-125\n",
            "MQNTPAERLPAIIEKAKSKHDINVWLLDRQGRDLLEQRVPAKVA...EGP B7RZ31_9GAMM/59-123\n",
            "ARRHGQEYFQQWLERQPKKVKEQVFAVDQFGRELLGRPLPEDMA...KKP A0A143HL37_9GAMM/57-121\n",
            "TRRHGPESFRFWLERQPVEARDRIYAIDRSGAEILDRPIPRGMA...NKP A0A0X3UC67_9GAMM/57-121\n"
          ]
        }
      ]
    },
    {
      "cell_type": "markdown",
      "source": [
        "### Pairwise Sequence Alignment\n",
        "Pairwise sequence alignment compares only two sequences at a time and provides best possible sequence alignments. Pairwise is easy to understand and exceptional to infer from the resulting sequence alignment.\n",
        "\n",
        "Biopython provides a special module, Bio.pairwise2 to identify the alignment sequence using pairwise method. Biopython applies the best algorithm to find the alignment sequence and it is par with other software."
      ],
      "metadata": {
        "id": "9BPbI-caKQdR"
      }
    },
    {
      "cell_type": "code",
      "source": [
        "from Bio import pairwise2\n",
        "from Bio.Seq import Seq \n",
        "seq1 = Seq(\"ACCGGT\")\n",
        "seq2 = Seq(\"ACGT\")"
      ],
      "metadata": {
        "id": "s5gtx5tkJw18"
      },
      "execution_count": 6,
      "outputs": []
    },
    {
      "cell_type": "code",
      "source": [
        "alignments = pairwise2.align.globalxx(seq1, seq2)"
      ],
      "metadata": {
        "id": "y3TqKqtaPGaa"
      },
      "execution_count": 7,
      "outputs": []
    },
    {
      "cell_type": "markdown",
      "source": [
        "Here, 'globalxx' method performs the actual work and finds all the best possible alignments in the given sequences. Actually, `Bio.pairwise2` provides quite a set of methods which follows the below convention to find alignments in different scenarios.\n",
        "\n",
        "`<sequence alignment type>XY``\n",
        "\n",
        "Here, the sequence alignment type refers to the alignment type which may be global or local. global type is finding sequence alignment by taking entire sequence into consideration. local type is finding sequence alignment by looking into the subset of the given sequences as well. This will be tedious but provides better idea about the similarity between the given sequences.\n",
        "\n",
        "* __X__ refers to matching score. The possible values are x (exact match), m (score based on identical chars), d (user provided dictionary with character and match score) and finally c (user defined function to provide custom scoring algorithm).\n",
        "\n",
        "* __Y__ refers to gap penalty. The possible values are x (no gap penalties), s (same penalties for both sequences), d (different penalties for each sequence) and finally c (user defined function to provide custom gap penalties)\n",
        "\n",
        "So, `localds` is also a valid method, which finds the sequence alignment using local alignment technique, user provided dictionary for matches and user provided gap penalty for both sequences."
      ],
      "metadata": {
        "id": "J8TNJ65vPHcO"
      }
    },
    {
      "cell_type": "code",
      "source": [
        "from Bio.SubsMat import MatrixInfo as matlist\n",
        "test_alignments = pairwise2.align.localds(seq1, seq2, matlist.blosum62, -10, -1)"
      ],
      "metadata": {
        "id": "oiGnBca6PG2i"
      },
      "execution_count": 16,
      "outputs": []
    },
    {
      "cell_type": "markdown",
      "source": [
        "Here, `blosum62` refers to a dictionary available in the `pairwise2` module to provide match score. `-10` refers to gap open penalty and `-1` refers to gap extension penalty.\n",
        "\n",
        "Loop over the iterable alignments object and get each individual alignment object and print it."
      ],
      "metadata": {
        "id": "xCqjApKQdkEd"
      }
    },
    {
      "cell_type": "code",
      "source": [
        "for alignment in alignments: \n",
        "  print(alignment) "
      ],
      "metadata": {
        "colab": {
          "base_uri": "https://localhost:8080/"
        },
        "id": "n-ZxJU20djGL",
        "outputId": "2b4f7efa-44d6-4e36-87d0-7b50cdac037a"
      },
      "execution_count": 17,
      "outputs": [
        {
          "output_type": "stream",
          "name": "stdout",
          "text": [
            "Alignment(seqA='ACCGGT', seqB='A-C-GT', score=4.0, start=0, end=6)\n",
            "Alignment(seqA='ACCGGT', seqB='AC--GT', score=4.0, start=0, end=6)\n",
            "Alignment(seqA='ACCGGT', seqB='A-CG-T', score=4.0, start=0, end=6)\n",
            "Alignment(seqA='ACCGGT', seqB='AC-G-T', score=4.0, start=0, end=6)\n"
          ]
        }
      ]
    },
    {
      "cell_type": "markdown",
      "source": [
        "`Bio.pairwise2` module provides a formatting method, format_alignment to better visualize the result."
      ],
      "metadata": {
        "id": "m-SH44BOjywo"
      }
    },
    {
      "cell_type": "code",
      "source": [
        "from Bio.pairwise2 import format_alignment \n",
        "alignments = pairwise2.align.globalxx(seq1, seq2) \n",
        "for alignment in alignments: \n",
        "  print(format_alignment(*alignment)) "
      ],
      "metadata": {
        "colab": {
          "base_uri": "https://localhost:8080/"
        },
        "id": "9SIL38dGjtAu",
        "outputId": "86c5c4ab-8279-4666-9178-67e539d31540"
      },
      "execution_count": 19,
      "outputs": [
        {
          "output_type": "stream",
          "name": "stdout",
          "text": [
            "ACCGGT\n",
            "| | ||\n",
            "A-C-GT\n",
            "  Score=4\n",
            "\n",
            "ACCGGT\n",
            "||  ||\n",
            "AC--GT\n",
            "  Score=4\n",
            "\n",
            "ACCGGT\n",
            "| || |\n",
            "A-CG-T\n",
            "  Score=4\n",
            "\n",
            "ACCGGT\n",
            "|| | |\n",
            "AC-G-T\n",
            "  Score=4\n",
            "\n"
          ]
        }
      ]
    },
    {
      "cell_type": "markdown",
      "source": [
        "## 07 - BLAST Algorithms\n",
        "\n",
        "### Running BLAST Online\n",
        "Biopython provides `Bio.Blast.NCBIWWW` module to call the online version of BLAST: https://blast.ncbi.nlm.nih.gov/Blast.cgi\n",
        "\n",
        "Usually, the arguments of the qblast function are basically analogous to different parameters that you can set on the BLAST web page. This makes the qblast function easy to understand as well as reduces the learning curve to use it."
      ],
      "metadata": {
        "id": "9Uvr4jNNlvTY"
      }
    },
    {
      "cell_type": "code",
      "source": [
        "from Bio.Blast import NCBIWWW\n",
        "sequence_data = open(\"./blast_example.fasta\").read()\n",
        "result_handle = NCBIWWW.qblast(\"blastn\", \"nt\", sequence_data) "
      ],
      "metadata": {
        "id": "vTMZyOG6j4mz"
      },
      "execution_count": 20,
      "outputs": []
    },
    {
      "cell_type": "markdown",
      "source": [
        "`blast_results` holds the result of our search. It can be saved to a file for later use and also, parsed to get the details.\n",
        "\n",
        "The same functionality can be done using `Seq` object as well rather than using the whole fasta file as shown below"
      ],
      "metadata": {
        "id": "-c6oyotFmkO_"
      }
    },
    {
      "cell_type": "code",
      "source": [
        "from Bio import SeqIO\n",
        "seq_record = next(SeqIO.parse(open('blast_example.fasta'),'fasta'))\n",
        "print(seq_record.id)\n",
        "print(seq_record.seq)"
      ],
      "metadata": {
        "colab": {
          "base_uri": "https://localhost:8080/"
        },
        "id": "W5_SF5dSmj0z",
        "outputId": "c739b6b8-1f09-41d8-8e28-a1af237c663c"
      },
      "execution_count": 21,
      "outputs": [
        {
          "output_type": "stream",
          "name": "stdout",
          "text": [
            "sequence\n",
            "tctgttgccagaaaaaacacttttaggctatattagagccatcttctttgaagcgttgtc\n"
          ]
        }
      ]
    },
    {
      "cell_type": "markdown",
      "source": [
        "Now, call the `qblast` function passing `Seq` object, `record.seq` as main parameter."
      ],
      "metadata": {
        "id": "v8hNbub4nDIQ"
      }
    },
    {
      "cell_type": "code",
      "source": [
        "result_handle = NCBIWWW.qblast(\"blastn\", \"nt\", seq_record.seq)\n",
        "with open('./blast_results.xml', 'w') as save_file:\n",
        "  blast_results = result_handle.read()\n",
        "  save_file.write(blast_results)"
      ],
      "metadata": {
        "id": "aojTdN-im_Em"
      },
      "execution_count": 22,
      "outputs": []
    },
    {
      "cell_type": "markdown",
      "source": [
        "### Running BLAST locally\n",
        "\n",
        "If you run BLAST in local system, it may be faster and also allows you to create your own database to search against sequences.\n",
        "\n",
        "In general, running BLAST locally is not recommended due to its large size, extra effort needed to run the software, and the cost involved. Online BLAST is sufficient for basic and advanced purposes. Of course, sometime you may be required to install it locally.\n",
        "\n",
        "Consider you are conducting frequent searches online which may require a lot of time and high network volume and if you have proprietary sequence data or IP related issues, then installing it locally is recommended.\n",
        "\n",
        "1. Download and install the latest blast binary using the given link − https://ftp.ncbi.nlm.nih.gov/blast/executables/blast+/LATEST/\n",
        "1. Download and unpack the latest and necessary database using the below link − https://ftp.ncbi.nlm.nih.gov/blast/db/\n",
        "\n",
        "Let us **download alu.n.gz** file from the blast database site and unpack it into alu folder. This file is in FASTA format. To use this file in our blast application, we need to first convert the file from FASTA format into blast database format. BLAST provides makeblastdb application to do this conversion.\n",
        "\n",
        "```python\n",
        "cd /path/to/alu \n",
        "makeblastdb -in alu.n -parse_seqids -dbtype nucl -out alun\n",
        "```\n",
        "\n",
        "We have installed the BLAST in our local server and also have sample BLAST database, alun to query against it.\n",
        "\n",
        "`blastn -db alun -query search.fsa -out results.xml -outfmt 5`\n",
        "\n"
      ],
      "metadata": {
        "id": "jArekRllpinD"
      }
    },
    {
      "cell_type": "markdown",
      "source": [
        "## 08 - Sequence Motifs"
      ],
      "metadata": {
        "id": "6N7lh7HOeJ4B"
      }
    },
    {
      "cell_type": "code",
      "source": [
        "from Bio import motifs\n",
        "from Bio.Seq import Seq"
      ],
      "metadata": {
        "id": "f2vXl4EPnQFS"
      },
      "execution_count": 7,
      "outputs": []
    },
    {
      "cell_type": "code",
      "source": [
        "DNA_motif = [ Seq(\"AGCT\"), Seq(\"TCGA\"), Seq(\"AACT\"), ]\n",
        "seq = motifs.create(DNA_motif) \n",
        "print(seq)"
      ],
      "metadata": {
        "colab": {
          "base_uri": "https://localhost:8080/"
        },
        "id": "8UEAFkNPeRV1",
        "outputId": "a4342b76-1906-4c47-d8d0-c35a2180b164"
      },
      "execution_count": 8,
      "outputs": [
        {
          "output_type": "stream",
          "name": "stdout",
          "text": [
            "AGCT\n",
            "TCGA\n",
            "AACT\n",
            "\n"
          ]
        }
      ]
    },
    {
      "cell_type": "code",
      "source": [
        "print(seq.counts)"
      ],
      "metadata": {
        "colab": {
          "base_uri": "https://localhost:8080/"
        },
        "id": "I3wrmBooeidd",
        "outputId": "54614712-8bcc-4cf2-89f4-6e6ce59a42d2"
      },
      "execution_count": 9,
      "outputs": [
        {
          "output_type": "stream",
          "name": "stdout",
          "text": [
            "        0      1      2      3\n",
            "A:   2.00   1.00   0.00   1.00\n",
            "C:   0.00   1.00   2.00   0.00\n",
            "G:   0.00   1.00   1.00   0.00\n",
            "T:   1.00   0.00   0.00   2.00\n",
            "\n"
          ]
        }
      ]
    },
    {
      "cell_type": "code",
      "source": [
        "seq.counts[\"A\", :]"
      ],
      "metadata": {
        "colab": {
          "base_uri": "https://localhost:8080/"
        },
        "id": "Ry8-tNkeelnK",
        "outputId": "23e6516b-d452-4952-d881-f60eb26d9833"
      },
      "execution_count": 10,
      "outputs": [
        {
          "output_type": "execute_result",
          "data": {
            "text/plain": [
              "(2, 1, 0, 1)"
            ]
          },
          "metadata": {},
          "execution_count": 10
        }
      ]
    },
    {
      "cell_type": "markdown",
      "source": [
        "If you want to access the columns of counts, use the below command"
      ],
      "metadata": {
        "id": "-fjygvXvew_f"
      }
    },
    {
      "cell_type": "code",
      "source": [
        "seq.counts[:, 3] "
      ],
      "metadata": {
        "colab": {
          "base_uri": "https://localhost:8080/"
        },
        "id": "bh0JVwS_eok9",
        "outputId": "39189abe-c5ba-4990-919d-f261a715162b"
      },
      "execution_count": 11,
      "outputs": [
        {
          "output_type": "execute_result",
          "data": {
            "text/plain": [
              "{'A': 1, 'C': 0, 'G': 0, 'T': 2}"
            ]
          },
          "metadata": {},
          "execution_count": 11
        }
      ]
    },
    {
      "cell_type": "markdown",
      "source": [
        "### Sequence Logo\n",
        "\n",
        "```\n",
        "AGCTTACG \n",
        "ATCGTACC \n",
        "TTCCGAAT \n",
        "GGTACGTA \n",
        "AAGCTTGG\n",
        "````\n"
      ],
      "metadata": {
        "id": "ISLMw7KGe29_"
      }
    },
    {
      "cell_type": "markdown",
      "source": [
        "## 09 - Population Genetics"
      ],
      "metadata": {
        "id": "7dJucSBFfyN7"
      }
    },
    {
      "cell_type": "code",
      "source": [
        "from Bio.PopGen import GenePop"
      ],
      "metadata": {
        "id": "jvCTqhm6ey_d"
      },
      "execution_count": 12,
      "outputs": []
    },
    {
      "cell_type": "code",
      "source": [
        "record = GenePop.read(open(\"./c3line.gen\"))\n"
      ],
      "metadata": {
        "id": "gtDsRT2ef23y"
      },
      "execution_count": 13,
      "outputs": []
    },
    {
      "cell_type": "markdown",
      "source": [
        "Show the loci and population information"
      ],
      "metadata": {
        "id": "TzLbJoZJgFPn"
      }
    },
    {
      "cell_type": "code",
      "source": [
        "record.loci_list"
      ],
      "metadata": {
        "colab": {
          "base_uri": "https://localhost:8080/"
        },
        "id": "dWaa1HRTgAvi",
        "outputId": "2f7116d7-e93b-414a-8643-c8d07857d0e2"
      },
      "execution_count": 14,
      "outputs": [
        {
          "output_type": "execute_result",
          "data": {
            "text/plain": [
              "['136255903', '136257048', '136257636']"
            ]
          },
          "metadata": {},
          "execution_count": 14
        }
      ]
    },
    {
      "cell_type": "code",
      "source": [
        "record.pop_list"
      ],
      "metadata": {
        "colab": {
          "base_uri": "https://localhost:8080/"
        },
        "id": "EFObcMtHgDgg",
        "outputId": "6dc84681-5e83-4da9-a575-e44fa860bee3"
      },
      "execution_count": 15,
      "outputs": [
        {
          "output_type": "execute_result",
          "data": {
            "text/plain": [
              "['4', 'b3', '5']"
            ]
          },
          "metadata": {},
          "execution_count": 15
        }
      ]
    },
    {
      "cell_type": "code",
      "source": [
        "record.populations"
      ],
      "metadata": {
        "colab": {
          "base_uri": "https://localhost:8080/"
        },
        "id": "GnnGSLQsgH5R",
        "outputId": "c9b1c1ce-2f3f-4069-a31e-1617e7e5ced7"
      },
      "execution_count": 16,
      "outputs": [
        {
          "output_type": "execute_result",
          "data": {
            "text/plain": [
              "[[('1', [(3, 3), (4, 4), (2, 2)]),\n",
              "  ('2', [(3, 3), (3, 4), (2, 2)]),\n",
              "  ('3', [(3, 3), (4, 4), (2, 2)]),\n",
              "  ('4', [(3, 3), (4, 3), (None, None)])],\n",
              " [('b1', [(None, None), (4, 4), (2, 2)]),\n",
              "  ('b2', [(None, None), (4, 4), (2, 2)]),\n",
              "  ('b3', [(None, None), (4, 4), (2, 2)])],\n",
              " [('1', [(3, 3), (4, 4), (2, 2)]),\n",
              "  ('2', [(3, 3), (1, 4), (2, 2)]),\n",
              "  ('3', [(3, 2), (1, 1), (2, 2)]),\n",
              "  ('4', [(None, None), (4, 4), (2, 2)]),\n",
              "  ('5', [(3, 3), (4, 4), (2, 2)])]]"
            ]
          },
          "metadata": {},
          "execution_count": 16
        }
      ]
    },
    {
      "cell_type": "markdown",
      "source": [
        "Here, there are three loci available in the file and three sets of population:\n",
        "\n",
        "* First population has 4 records, \n",
        "* second population has 3 records and \n",
        "* third population has 5 records. \n",
        "\n",
        "`record.populations` shows all sets of population with alleles data for each locus.\n",
        "\n",
        "Biopython provides options to remove locus and population data."
      ],
      "metadata": {
        "id": "luOUdORsgMil"
      }
    },
    {
      "cell_type": "code",
      "source": [
        "record.remove_population(0)\n",
        "record.populations"
      ],
      "metadata": {
        "colab": {
          "base_uri": "https://localhost:8080/"
        },
        "id": "il3_k0XlgJAX",
        "outputId": "69bc8347-bb47-442e-bc21-53322d59cbd6"
      },
      "execution_count": 17,
      "outputs": [
        {
          "output_type": "execute_result",
          "data": {
            "text/plain": [
              "[[('b1', [(None, None), (4, 4), (2, 2)]),\n",
              "  ('b2', [(None, None), (4, 4), (2, 2)]),\n",
              "  ('b3', [(None, None), (4, 4), (2, 2)])],\n",
              " [('1', [(3, 3), (4, 4), (2, 2)]),\n",
              "  ('2', [(3, 3), (1, 4), (2, 2)]),\n",
              "  ('3', [(3, 2), (1, 1), (2, 2)]),\n",
              "  ('4', [(None, None), (4, 4), (2, 2)]),\n",
              "  ('5', [(3, 3), (4, 4), (2, 2)])]]"
            ]
          },
          "metadata": {},
          "execution_count": 17
        }
      ]
    },
    {
      "cell_type": "markdown",
      "source": [
        "Remove a locus by position"
      ],
      "metadata": {
        "id": "Si6J-iUkgjCz"
      }
    },
    {
      "cell_type": "code",
      "source": [
        "record.remove_locus_by_position(0)\n",
        "record.loci_list"
      ],
      "metadata": {
        "colab": {
          "base_uri": "https://localhost:8080/"
        },
        "id": "UZl_ccYSgewU",
        "outputId": "88c78984-4d99-48f4-8670-f8db5ee9a24c"
      },
      "execution_count": 18,
      "outputs": [
        {
          "output_type": "execute_result",
          "data": {
            "text/plain": [
              "['136257048', '136257636']"
            ]
          },
          "metadata": {},
          "execution_count": 18
        }
      ]
    },
    {
      "cell_type": "code",
      "source": [
        "record.populations"
      ],
      "metadata": {
        "colab": {
          "base_uri": "https://localhost:8080/"
        },
        "id": "-LniuT-Rgmct",
        "outputId": "c7408256-323b-4c59-936a-8b66afb00724"
      },
      "execution_count": 19,
      "outputs": [
        {
          "output_type": "execute_result",
          "data": {
            "text/plain": [
              "[[('b1', [(4, 4), (2, 2)]),\n",
              "  ('b2', [(4, 4), (2, 2)]),\n",
              "  ('b3', [(4, 4), (2, 2)])],\n",
              " [('1', [(4, 4), (2, 2)]),\n",
              "  ('2', [(1, 4), (2, 2)]),\n",
              "  ('3', [(1, 1), (2, 2)]),\n",
              "  ('4', [(4, 4), (2, 2)]),\n",
              "  ('5', [(4, 4), (2, 2)])]]"
            ]
          },
          "metadata": {},
          "execution_count": 19
        }
      ]
    },
    {
      "cell_type": "code",
      "source": [
        "record.remove_locus_by_name('136257636')\n",
        "record.populations"
      ],
      "metadata": {
        "colab": {
          "base_uri": "https://localhost:8080/"
        },
        "id": "OQeZz-7fgqCm",
        "outputId": "29a6bba0-7dc0-4d86-fa05-4bfe55ef18e2"
      },
      "execution_count": 21,
      "outputs": [
        {
          "output_type": "execute_result",
          "data": {
            "text/plain": [
              "[[('b1', [(4, 4)]), ('b2', [(4, 4)]), ('b3', [(4, 4)])],\n",
              " [('1', [(4, 4)]),\n",
              "  ('2', [(1, 4)]),\n",
              "  ('3', [(1, 1)]),\n",
              "  ('4', [(4, 4)]),\n",
              "  ('5', [(4, 4)])]]"
            ]
          },
          "metadata": {},
          "execution_count": 21
        }
      ]
    },
    {
      "cell_type": "markdown",
      "source": [
        "## 10 - Genome Diagramms\n",
        "Genome diagram represents the genetic information as charts. Biopython uses `Bio.Graphics.GenomeDiagram` module to represent GenomeDiagram. The GenomeDiagram module requires ReportLab to be installed.\n",
        "\n",
        "**The process of creating a diagram generally follows the below simple pattern**\n",
        "\n",
        "1. Create a FeatureSet for each separate set of features you want to display, and add `Bio.SeqFeature` objects to them.\n",
        "1. Create a GraphSet for each graph you want to display, and add graph data to them.\n",
        "1. Create a Track for each track you want on the diagram, and add `GraphSets` and `FeatureSets` to the tracks you require.\n",
        "1. Create a Diagram, and add the Tracks to it.\n",
        "1. Tell the Diagram to draw the image.\n",
        "1. Write the image to a file.\n",
        "\n",
        "\n"
      ],
      "metadata": {
        "id": "AjCaNLzanEHR"
      }
    },
    {
      "cell_type": "code",
      "source": [
        "from reportlab.lib import colors \n",
        "from reportlab.lib.units import cm \n",
        "from Bio.Graphics import GenomeDiagram\n",
        "from Bio import SeqIO "
      ],
      "metadata": {
        "id": "o_p4EF7Kgv28"
      },
      "execution_count": 26,
      "outputs": []
    },
    {
      "cell_type": "code",
      "source": [
        "record = SeqIO.read(\"./orchid.gbk\", \"genbank\")"
      ],
      "metadata": {
        "id": "Zj3-2OEan78C"
      },
      "execution_count": 27,
      "outputs": []
    },
    {
      "cell_type": "markdown",
      "source": [
        "Create an empty diagram to add track and feature set"
      ],
      "metadata": {
        "id": "JGXAFuBHqGFy"
      }
    },
    {
      "cell_type": "code",
      "source": [
        "diagram = GenomeDiagram.Diagram(\"Yersinia pestis biovar Microtus plasmid pPCP1\")\n",
        "track = diagram.new_track(1, name=\"Annotated Features\")\n",
        "features = track.new_set()"
      ],
      "metadata": {
        "id": "3mS41cltpRZC"
      },
      "execution_count": 34,
      "outputs": []
    },
    {
      "cell_type": "markdown",
      "source": [
        "Apply color theme changes using alternative colors from green to grey as defined below:"
      ],
      "metadata": {
        "id": "4la14tCOqrD7"
      }
    },
    {
      "cell_type": "code",
      "source": [
        "for feature in record.features: \n",
        "  if feature.type != \"gene\": \n",
        "    continue \n",
        "  if len(feature) % 2 == 0: \n",
        "    color = colors.blue \n",
        "  else: \n",
        "    color = colors.red\n",
        "\n",
        "  features.add_feature(feature, color=color, label=True)"
      ],
      "metadata": {
        "id": "knqNGueOqKPf"
      },
      "execution_count": 35,
      "outputs": []
    },
    {
      "cell_type": "code",
      "source": [
        "diagram.draw(format = \"linear\", orientation = \"landscape\", pagesize = 'A4', fragments = 4, start = 0, end = len(record)) \n",
        "diagram.write(\"orchid.png\", \"PNG\")"
      ],
      "metadata": {
        "id": "4xztRU2fqys7"
      },
      "execution_count": 36,
      "outputs": []
    },
    {
      "cell_type": "markdown",
      "source": [
        "## 11 - Cluster Analysis\n",
        "\n",
        "Cluster analysis is grouping a set of objects in the same group. This concept is mainly used in data mining, statistical data analysis, machine learning, pattern recognition, image analysis, bioinformatics, etc.\n",
        "\n",
        "It can be achieved by various algorithms to understand how the cluster is widely used in different analysis.\n",
        "\n",
        "According to Bioinformatics, cluster analysis is mainly used in gene expression data analysis to find groups of genes with similar gene expression.\n",
        "\n",
        "Biopython uses Bio.Cluster module for implementing all the algorithms. It supports the following algorithms −\n",
        "\n",
        "* Hierarchical Clustering\n",
        "* K - Clustering\n",
        "* Self-Organizing Maps\n",
        "* Principal Component Analysis\n",
        "\n",
        "### Hierarchical Clustering\n",
        "\n",
        "Hierarchical clustering is used to link each node by a distance measure to its nearest neighbor and create a cluster. `Bio.Cluster`  node has three attributes: `left`, `right` and `distance`."
      ],
      "metadata": {
        "id": "rQB0NqVquraL"
      }
    },
    {
      "cell_type": "code",
      "source": [
        "from Bio.Cluster import Node, Tree\n",
        "n = Node(1,10)\n",
        "n.left = 11\n",
        "n.right = 0\n",
        "n.distance = 1\n",
        "print(n)"
      ],
      "metadata": {
        "colab": {
          "base_uri": "https://localhost:8080/"
        },
        "id": "1gpuQ5IxsPr2",
        "outputId": "aa91a1cd-4450-440e-c0da-cd9f121305d0"
      },
      "execution_count": 41,
      "outputs": [
        {
          "output_type": "stream",
          "name": "stdout",
          "text": [
            "(11, 0): 1\n"
          ]
        }
      ]
    },
    {
      "cell_type": "markdown",
      "source": [
        "Tree based clustering:"
      ],
      "metadata": {
        "id": "VSQXqXmGvOkk"
      }
    },
    {
      "cell_type": "code",
      "source": [
        "n1 = [Node(1, 2, 0.2), Node(0, -1, 0.5)]\n",
        "n1_tree = Tree(n1)\n",
        "print(n1_tree)\n",
        "print(n1_tree[0])"
      ],
      "metadata": {
        "colab": {
          "base_uri": "https://localhost:8080/"
        },
        "id": "AoECQsKssSfa",
        "outputId": "5a6fc655-6e0e-48ee-b0c2-9e12ce346d82"
      },
      "execution_count": 42,
      "outputs": [
        {
          "output_type": "stream",
          "name": "stdout",
          "text": [
            "(1, 2): 0.2\n",
            "(0, -1): 0.5\n",
            "(1, 2): 0.2\n"
          ]
        }
      ]
    },
    {
      "cell_type": "markdown",
      "source": [
        "### K-means Clustering\n",
        "\n",
        "This approach is popular in data mining. The goal of this algorithm is to find groups in the data, with the number of groups represented by the variable `K`.\n",
        "\n",
        "The algorithm works iteratively to assign each data point to one of the `K` groups based on the features that are provided. Data points are clustered based on feature similarity."
      ],
      "metadata": {
        "id": "5Ex44hC5wnlS"
      }
    },
    {
      "cell_type": "code",
      "source": [
        "from Bio.Cluster import kcluster \n",
        "from numpy import array\n",
        "data = array([[1, 2], [3, 4], [5, 6]])\n",
        "clusterid, error,found = kcluster(data)\n",
        "print(clusterid)\n",
        "print(found)"
      ],
      "metadata": {
        "colab": {
          "base_uri": "https://localhost:8080/"
        },
        "id": "RSyv01FovUpK",
        "outputId": "45fffd1d-acaa-4227-842a-3d4afbb32b7d"
      },
      "execution_count": 44,
      "outputs": [
        {
          "output_type": "stream",
          "name": "stdout",
          "text": [
            "[1 0 0]\n",
            "1\n"
          ]
        }
      ]
    },
    {
      "cell_type": "markdown",
      "source": [
        "### Self-Organizing Maps\n",
        "\n",
        "This approach is a type of artificial neural network. It is developed by Kohonen and often called as Kohonen map. It organizes items into clusters based on rectangular topology"
      ],
      "metadata": {
        "id": "kn9sxDp4xJpk"
      }
    },
    {
      "cell_type": "code",
      "source": [
        "from Bio.Cluster import somcluster\n",
        "from numpy import array\n",
        "data = array([[1, 2], [3, 4], [5, 6]]) \n",
        "clusterid,map = somcluster(data)\n",
        "print(map) \n",
        "print(clusterid) "
      ],
      "metadata": {
        "colab": {
          "base_uri": "https://localhost:8080/"
        },
        "id": "VnOmqWadw9uJ",
        "outputId": "93365aaf-b466-4d33-f2f0-0b25eb887034"
      },
      "execution_count": 45,
      "outputs": [
        {
          "output_type": "stream",
          "name": "stdout",
          "text": [
            "[[[-1.38053971  0.3067737 ]]\n",
            "\n",
            " [[ 0.31201947  1.37936357]]]\n",
            "[[1 0]\n",
            " [1 0]\n",
            " [1 0]]\n"
          ]
        }
      ]
    },
    {
      "cell_type": "markdown",
      "source": [
        "Here, `clusterid` is an array with two columns, where the number of rows is equal to the number of items that were clustered, and `data` is an array with dimensions either rows or columns."
      ],
      "metadata": {
        "id": "rJON8COkxWFL"
      }
    },
    {
      "cell_type": "markdown",
      "source": [
        "### Principal Component Analysis\n",
        "\n",
        "Principal Component Analysis is useful to visualize high-dimensional data. It is a method that uses simple matrix operations from linear algebra and statistics to calculate a projection of the original data into the same number or fewer dimensions.\n",
        "\n",
        "Principal Component Analysis returns a tuple columnmean, coordinates, components, and eigenvalues."
      ],
      "metadata": {
        "id": "USO7avQ3xhEh"
      }
    },
    {
      "cell_type": "code",
      "source": [
        "from numpy import array \n",
        "from numpy import mean \n",
        "from numpy import cov \n",
        "from numpy.linalg import eig\n",
        "\n",
        "A = array([[1, 2], [3, 4], [5, 6]])\n",
        "\n",
        "# calculate the mean of each column \n",
        "M = mean(A.T, axis = 1) \n",
        "print('mean:', M)\n",
        "\n",
        "# center columns by subtracting column means \n",
        "C = A - M\n",
        "\n",
        "# calculate covariance matrix of centered matrix \n",
        "V = cov(C.T)\n",
        "\n",
        "# eigendecomposition of covariance matrix \n",
        "values, vectors = eig(V)\n",
        "\n",
        "print('Vectors: ', vectors)\n",
        "print('Values: ',values) "
      ],
      "metadata": {
        "colab": {
          "base_uri": "https://localhost:8080/"
        },
        "id": "y58h5bIbxTom",
        "outputId": "b49c8c1b-b689-48c4-c072-977fbb56a011"
      },
      "execution_count": 46,
      "outputs": [
        {
          "output_type": "stream",
          "name": "stdout",
          "text": [
            "mean: [3. 4.]\n",
            "Vectors:  [[ 0.70710678 -0.70710678]\n",
            " [ 0.70710678  0.70710678]]\n",
            "Values:  [8. 0.]\n"
          ]
        }
      ]
    },
    {
      "cell_type": "markdown",
      "source": [
        "## Machine Learning\n",
        "\n",
        "Bioinformatics is an excellent area to apply machine learning algorithms. Here, we have genetic information of large number of organisms and it is not possible to manually analyze all this information.\n",
        "\n",
        "If a proper machine learning algorithm is used, we can extract lot of useful information from these data. Biopython provides useful set of algorithm to do supervised machine learning.\n",
        "\n",
        "**Supervised learning** is based on input variable `(X)` and output variable `(Y)`. It uses an algorithm to learn the mapping function from the input to the output.\n",
        "\n",
        "```\n",
        "Y = f(X)\n",
        "```\n",
        "\n",
        "The main objective of this approach is to approximate the mapping function and when you have new input data `(x)`, you can predict the output variables `(Y)` for that data.\n",
        "\n",
        "### Logistic Regression Model\n",
        "\n",
        "Logistic regression is a supervised machine Learning algorithm. It is used to find out the difference between K classes using weighted sum of predictor variables. It computes the probability of an event occurrence and can be used for cancer detection.\n",
        "\n",
        "Biopython provides Bio.LogisticRegression module to predict variables based on Logistic regression algorithm. Currently, Biopython implements logistic regression algorithm for two classes only (K = 2).\n",
        "\n",
        "### k-Nearest Neighbors\n",
        "\n",
        "k-Nearest neighbors is also a supervised machine learning algorithm. It works by categorizing the data based on nearest neighbors. Biopython provides `Bio.KNN` module to predict variables based on k-nearest neighbors algorithm.\n",
        "\n",
        "### Naive Bayes\n",
        "\n",
        "Naive Bayes classifiers are a collection of classification algorithms based on Bayes’ Theorem. It is not a single algorithm but a family of algorithms where all of them share a common principle, i.e. every pair of features being classified is independent of each other. Biopython provides `Bio.NaiveBayes` module to work with Naive Bayes algorithm.\n",
        "\n",
        "### Markov Model\n",
        "\n",
        "A Markov model is a mathematical system defined as a collection of random variables, that experiences transition from one state to another according to certain probabilistic rules. Biopython provides `Bio.MarkovModel` and `Bio.HMM.MarkovModel` modules to work with Markov models."
      ],
      "metadata": {
        "id": "M0qR9ZC529cw"
      }
    },
    {
      "cell_type": "code",
      "source": [
        ""
      ],
      "metadata": {
        "id": "inba9prLyDR4"
      },
      "execution_count": null,
      "outputs": []
    }
  ]
}